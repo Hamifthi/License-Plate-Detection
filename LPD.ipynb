{
 "cells": [
  {
   "cell_type": "code",
   "execution_count": 11,
   "metadata": {},
   "outputs": [],
   "source": [
    "import pandas as pd\n",
    "import numpy as np\n",
    "import scipy as sc\n",
    "import scipy.misc\n",
    "import matplotlib.pyplot as plt\n",
    "from PIL import Image, ImageDraw, ImageFont"
   ]
  },
  {
   "cell_type": "code",
   "execution_count": 12,
   "metadata": {},
   "outputs": [],
   "source": [
    "# List of characters and a function for selecting random character\n",
    "characterList = np.array('A B C D E F G H I G K L M N O P Q R S T U V W X Y Z'.split(' '))\n",
    "numbersList = np.array([0, 1, 2, 3, 4, 5, 6, 7, 8, 9], dtype = int)\n",
    "def selectorOFCharacters (listOfCharactor):\n",
    "    character = np.random.choice(listOfCharactor)\n",
    "    if type(character) == np.str_:\n",
    "        return str(character)\n",
    "    else:\n",
    "        return int(character)"
   ]
  },
  {
   "cell_type": "code",
   "execution_count": 13,
   "metadata": {},
   "outputs": [],
   "source": [
    "# Generating fake number Plates characters for images\n",
    "def plateGenerator (numberOfPlates):\n",
    "    platesList = []\n",
    "    for i in range(numberOfPlates):\n",
    "        plateList = []\n",
    "        for j in range(8):\n",
    "            if j == 3:\n",
    "                plateList.append(selectorOFCharacters(characterList))\n",
    "            else:\n",
    "                plateList.append(selectorOFCharacters(numbersList))\n",
    "        platesList.append(plateList)\n",
    "    platesList = np.array(platesList)\n",
    "    return platesList"
   ]
  },
  {
   "cell_type": "code",
   "execution_count": 14,
   "metadata": {},
   "outputs": [],
   "source": [
    "# Create PNG files of characters\n",
    "# Don't use this function anymore because it doesn't return functionality i want\n",
    "# def createPNGFiles (charactersList):\n",
    "#     font = ImageFont.truetype(\"arial.ttf\", 95)\n",
    "#     if isinstance(charactersList[0], str):\n",
    "#         for character in charactersList:\n",
    "#             if character == 'W':\n",
    "#                 img = Image.new('RGB', (100, 100), color = (255, 255, 255))\n",
    "#                 draw = ImageDraw.Draw(img)\n",
    "#                 draw = draw.text((0, 0), character, fill = (0, 0, 0), font = font)\n",
    "#                 img.save('E:/Hamed/Projects/Python/License Plate Detection/License-Plate-Detection/Characterslist/{}.png'.format(character))\n",
    "#             elif character == 'M':\n",
    "#                 img = Image.new('RGB', (90, 100), color = (255, 255, 255))\n",
    "#                 draw = ImageDraw.Draw(img)\n",
    "#                 draw = draw.text((5, 0), character, fill = (0, 0, 0), font = font)\n",
    "#                 img.save('E:/Hamed/Projects/Python/License Plate Detection/License-Plate-Detection/Characterslist/{}.png'.format(character))\n",
    "#             else:\n",
    "#                 img = Image.new('RGB', (80, 100), color = (255, 255, 255))\n",
    "#                 draw = ImageDraw.Draw(img)\n",
    "#                 draw = draw.text((4, 0), character, fill = (0, 0, 0), font = font)\n",
    "#                 img.save('E:/Hamed/Projects/Python/License Plate Detection/License-Plate-Detection/Characterslist/{}.png'.format(character))\n",
    "#     else:\n",
    "#         for character in charactersList:\n",
    "#             character = str(character)\n",
    "#             img = Image.new('RGB', (65, 90), color = (255, 255, 255))\n",
    "#             draw = ImageDraw.Draw(img)\n",
    "#             draw = draw.text((5, -7), character, fill = (0, 0, 0), font = font)\n",
    "#             img.save('E:/Hamed/Projects/Python/License Plate Detection/License-Plate-Detection/Characterslist/{}.png'.format(character))"
   ]
  },
  {
   "cell_type": "code",
   "execution_count": 15,
   "metadata": {},
   "outputs": [],
   "source": [
    "# createPNGFiles(characterList)\n",
    "# createPNGFiles(numbersList)"
   ]
  },
  {
   "cell_type": "code",
   "execution_count": 16,
   "metadata": {},
   "outputs": [],
   "source": [
    "# Preparing characters of number Plates for png files\n",
    "def joinigPartsOfPlates (plateGenerator):\n",
    "    plates = plateGenerator\n",
    "    listOfFirstPart = np.array(list(map(lambda number:''.join(number), plates[:, :6]))).reshape(-1, 1)\n",
    "    listOfSecondPart = np.array(list(map(lambda number:''.join(number), plates[:, 6:]))).reshape(-1, 1)\n",
    "    return np.concatenate([listOfFirstPart, listOfSecondPart], axis = 1)"
   ]
  },
  {
   "cell_type": "code",
   "execution_count": 17,
   "metadata": {},
   "outputs": [],
   "source": [
    "# Create PNG files\n",
    "def createPNGFiles(platesList):\n",
    "    for character in platesList[:, 0]:\n",
    "        img = Image.new('RGB', (370, 100), color = (255, 255, 255))\n",
    "        draw = ImageDraw.Draw(img)\n",
    "        font = ImageFont.truetype(\"arial.ttf\", 100)\n",
    "        draw = draw.text((0, -6), character, fill = (0, 0, 0), font = font)\n",
    "        img.save('part1/{}.png'.format(character))\n",
    "    for character in platesList[:, 1]:\n",
    "        img = Image.new('RGB', (95, 70), color = (255, 255, 255))\n",
    "        draw = ImageDraw.Draw(img)\n",
    "        font = ImageFont.truetype(\"arial.ttf\", 90)\n",
    "        draw = draw.text((-2, -14), character, fill = (0, 0, 0), font = font)\n",
    "        img.save('part1/{}.png'.format(character))"
   ]
  },
  {
   "cell_type": "code",
   "execution_count": 34,
   "metadata": {},
   "outputs": [],
   "source": [
    "# creating real number Plates\n",
    "def createNumberPlates (numberOfPlates):\n",
    "    plates = joinigPartsOfPlates(plateGenerator(numberOfPlates))\n",
    "    createPNGFiles(plates)\n",
    "    print(plates)\n",
    "    for firstCharacters in plates[:, 0]:\n",
    "        background = Image.open('composite.png')\n",
    "        foreground = Image.open('part1/{}.png'.format(firstCharacters))\n",
    "        background.paste(foreground, (85, 12))\n",
    "        background.save('part1/{}.png'.format(firstCharacters))\n",
    "    for number in range(len(plates)):\n",
    "        background = Image.open('part1/{}.png'.format(plates[number, 0]))\n",
    "        foreground = Image.open('part1/{}.png'.format(plates[number, 1]))\n",
    "        background.paste(foreground, (480, 42))\n",
    "        background.save('part1/{}{}.png'.format(plates[number, 0], plates[number, 1]))"
   ]
  },
  {
   "cell_type": "code",
   "execution_count": 35,
   "metadata": {},
   "outputs": [
    {
     "name": "stdout",
     "output_type": "stream",
     "text": [
      "[['189C72' '13']\n",
      " ['830I80' '28']\n",
      " ['693B16' '53']\n",
      " ['865V99' '51']\n",
      " ['995Q22' '48']\n",
      " ['565M10' '99']\n",
      " ['156F01' '50']\n",
      " ['920B01' '04']\n",
      " ['088S78' '16']\n",
      " ['697L65' '58']\n",
      " ['913C07' '99']\n",
      " ['250H53' '81']\n",
      " ['566V73' '26']\n",
      " ['940B68' '93']\n",
      " ['616G62' '11']\n",
      " ['643A40' '82']\n",
      " ['102K95' '41']\n",
      " ['953C86' '56']\n",
      " ['871G45' '80']\n",
      " ['017B18' '75']]\n"
     ]
    }
   ],
   "source": [
    "createNumberPlates(20)"
   ]
  }
 ],
 "metadata": {
  "kernelspec": {
   "display_name": "Python 3",
   "language": "python",
   "name": "python3"
  },
  "language_info": {
   "codemirror_mode": {
    "name": "ipython",
    "version": 3
   },
   "file_extension": ".py",
   "mimetype": "text/x-python",
   "name": "python",
   "nbconvert_exporter": "python",
   "pygments_lexer": "ipython3",
   "version": "3.6.3"
  }
 },
 "nbformat": 4,
 "nbformat_minor": 2
}
