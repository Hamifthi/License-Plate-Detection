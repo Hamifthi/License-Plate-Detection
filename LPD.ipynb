{
 "cells": [
  {
   "cell_type": "code",
   "execution_count": 212,
   "metadata": {},
   "outputs": [],
   "source": [
    "import pandas as pd\n",
    "import numpy as np\n",
    "import scipy as sc\n",
    "import scipy.misc\n",
    "import matplotlib.pyplot as plt\n",
    "from PIL import Image, ImageDraw, ImageFont"
   ]
  },
  {
   "cell_type": "code",
   "execution_count": 213,
   "metadata": {},
   "outputs": [],
   "source": [
    "# List of characters and a function for selecting random character\n",
    "characterList = np.array('A B C D E F G H I G K L M N O P Q R S T U V W X Y Z'.split(' '))\n",
    "numbersList = np.array([0, 1, 2, 3, 4, 5, 6, 7, 8, 9], dtype = int)\n",
    "def selectorOFCharacters (listOfCharactor):\n",
    "    character = np.random.choice(listOfCharactor)\n",
    "    if type(character) == np.str_:\n",
    "        return str(character)\n",
    "    else:\n",
    "        return int(character)"
   ]
  },
  {
   "cell_type": "code",
   "execution_count": 214,
   "metadata": {},
   "outputs": [],
   "source": [
    "# Generating fake number Plates characters for images\n",
    "def plateGenerator (numberOfPlates):\n",
    "    platesList = []\n",
    "    for i in range(numberOfPlates):\n",
    "        plateList = []\n",
    "        for j in range(8):\n",
    "            if j == 3:\n",
    "                plateList.append(selectorOFCharacters(characterList))\n",
    "            else:\n",
    "                plateList.append(selectorOFCharacters(numbersList))\n",
    "        platesList.append(plateList)\n",
    "    platesList = np.array(platesList)\n",
    "    return platesList"
   ]
  },
  {
   "cell_type": "code",
   "execution_count": 215,
   "metadata": {},
   "outputs": [],
   "source": [
    "# Create PNG files of characters\n",
    "# Don't use this function anymore because it doesn't return functionality i want\n",
    "# def createPNGFiles (charactersList):\n",
    "#     font = ImageFont.truetype(\"arial.ttf\", 95)\n",
    "#     if isinstance(charactersList[0], str):\n",
    "#         for character in charactersList:\n",
    "#             if character == 'W':\n",
    "#                 img = Image.new('RGB', (100, 100), color = (255, 255, 255))\n",
    "#                 draw = ImageDraw.Draw(img)\n",
    "#                 draw = draw.text((0, 0), character, fill = (0, 0, 0), font = font)\n",
    "#                 img.save('E:/Hamed/Projects/Python/License Plate Detection/License-Plate-Detection/Characterslist/{}.png'.format(character))\n",
    "#             elif character == 'M':\n",
    "#                 img = Image.new('RGB', (90, 100), color = (255, 255, 255))\n",
    "#                 draw = ImageDraw.Draw(img)\n",
    "#                 draw = draw.text((5, 0), character, fill = (0, 0, 0), font = font)\n",
    "#                 img.save('E:/Hamed/Projects/Python/License Plate Detection/License-Plate-Detection/Characterslist/{}.png'.format(character))\n",
    "#             else:\n",
    "#                 img = Image.new('RGB', (80, 100), color = (255, 255, 255))\n",
    "#                 draw = ImageDraw.Draw(img)\n",
    "#                 draw = draw.text((4, 0), character, fill = (0, 0, 0), font = font)\n",
    "#                 img.save('E:/Hamed/Projects/Python/License Plate Detection/License-Plate-Detection/Characterslist/{}.png'.format(character))\n",
    "#     else:\n",
    "#         for character in charactersList:\n",
    "#             character = str(character)\n",
    "#             img = Image.new('RGB', (65, 90), color = (255, 255, 255))\n",
    "#             draw = ImageDraw.Draw(img)\n",
    "#             draw = draw.text((5, -7), character, fill = (0, 0, 0), font = font)\n",
    "#             img.save('E:/Hamed/Projects/Python/License Plate Detection/License-Plate-Detection/Characterslist/{}.png'.format(character))"
   ]
  },
  {
   "cell_type": "code",
   "execution_count": 216,
   "metadata": {},
   "outputs": [],
   "source": [
    "# createPNGFiles(characterList)\n",
    "# createPNGFiles(numbersList)"
   ]
  },
  {
   "cell_type": "code",
   "execution_count": 225,
   "metadata": {},
   "outputs": [],
   "source": [
    "# Preparing characters of number Plates for png files\n",
    "def joinigPartsOfPlates (plateGenerator):\n",
    "    plates = plateGenerator\n",
    "    listOfFirstPart = np.array(list(map(lambda number:''.join(number), plates[:, :6]))).reshape(-1, 1)\n",
    "    listOfSecondPart = np.array(list(map(lambda number:''.join(number), plates[:, 6:]))).reshape(-1, 1)\n",
    "    return np.concatenate([listOfFirstPart, listOfSecondPart], axis = 1)"
   ]
  },
  {
   "cell_type": "code",
   "execution_count": 231,
   "metadata": {},
   "outputs": [],
   "source": [
    "def createPNGFiles(platesList):\n",
    "    for character in platesList[:, 0]:\n",
    "        img = Image.new('RGB', (370, 100), color = (255, 255, 255))\n",
    "        draw = ImageDraw.Draw(img)\n",
    "        font = ImageFont.truetype(\"arial.ttf\", 100)\n",
    "        draw = draw.text((0, -6), character, fill = (0, 0, 0), font = font)\n",
    "        img.save('E:/Hamed/Projects/Python/License Plate Detection/License-Plate-Detection/part1/{}.png'.format(character))\n",
    "    for character in platesList[:, 1]:\n",
    "        img = Image.new('RGB', (95, 70), color = (255, 255, 255))\n",
    "        draw = ImageDraw.Draw(img)\n",
    "        font = ImageFont.truetype(\"arial.ttf\", 90)\n",
    "        draw = draw.text((-2, -14), character, fill = (0, 0, 0), font = font)\n",
    "        img.save('E:/Hamed/Projects/Python/License Plate Detection/License-Plate-Detection/part1/{}.png'.format(character))"
   ]
  },
  {
   "cell_type": "code",
   "execution_count": 232,
   "metadata": {},
   "outputs": [],
   "source": [
    "plates = joinigPartsOfPlates(plateGenerator(10))\n",
    "createPNGFiles(plates)"
   ]
  },
  {
   "cell_type": "code",
   "execution_count": null,
   "metadata": {},
   "outputs": [],
   "source": [
    "# # creating real number Plates\n",
    "# def createPNGFiles(numberOfPlates):\n",
    "#     plates = joinigPartsOfPlates(plateGenerator(numberOfPlates))"
   ]
  },
  {
   "cell_type": "code",
   "execution_count": 106,
   "metadata": {},
   "outputs": [],
   "source": [
    "background = Image.open('composite.png')\n",
    "foreground = Image.open('test.png')\n",
    "background.paste(foreground, (85, 12))\n",
    "background.save('composite.png')"
   ]
  },
  {
   "cell_type": "code",
   "execution_count": 107,
   "metadata": {},
   "outputs": [],
   "source": [
    "background = Image.open('composite.png')\n",
    "foreground = Image.open('test2.png')\n",
    "background.paste(foreground, (480, 42))\n",
    "background.save('composite.png')"
   ]
  }
 ],
 "metadata": {
  "kernelspec": {
   "display_name": "Python 3",
   "language": "python",
   "name": "python3"
  },
  "language_info": {
   "codemirror_mode": {
    "name": "ipython",
    "version": 3
   },
   "file_extension": ".py",
   "mimetype": "text/x-python",
   "name": "python",
   "nbconvert_exporter": "python",
   "pygments_lexer": "ipython3",
   "version": "3.6.3"
  }
 },
 "nbformat": 4,
 "nbformat_minor": 2
}
