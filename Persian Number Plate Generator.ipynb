{
 "cells": [
  {
   "cell_type": "code",
   "execution_count": 275,
   "metadata": {},
   "outputs": [],
   "source": [
    "import os\n",
    "import time\n",
    "import pandas as pd\n",
    "import numpy as np\n",
    "import scipy as sc\n",
    "import scipy.misc\n",
    "import matplotlib.pyplot as plt\n",
    "import matplotlib.patches as patches\n",
    "from PIL import Image, ImageDraw, ImageFont"
   ]
  },
  {
   "cell_type": "code",
   "execution_count": 276,
   "metadata": {},
   "outputs": [],
   "source": [
    "# List of characters and classes\n",
    "characterList = np.array('الف ب پ ت ث ج چ ح خ د ذ ر ز ژ س ش ص ض ط ظ ع غ ف ق ک گ ل م ن و ه ی'.split(' '))\n",
    "numbersList = np.array('۰ ۱ ۲ ۳ ۴ ۵ ۶ ۷ ۸ ۹'.split(' '))\n",
    "func = np.vectorize(str)\n",
    "classesText = np.concatenate([np.array(['background']), func(numbersList), characterList])"
   ]
  },
  {
   "cell_type": "code",
   "execution_count": 277,
   "metadata": {},
   "outputs": [],
   "source": [
    "# function for setup repetitive setup images\n",
    "def setupPNGCharacter (coordinates, character, width, height, fontSize, font = \"BNazanin.ttf\",\n",
    "    destination = 'E:/Hamed/Projects/Python/License Plate Detection/License-Plate-Detection/PersianCharactersList/{}.png'):\n",
    "    if type(coordinates) != tuple:\n",
    "        raise TypeError('Coordinates must be tuple')\n",
    "    font = ImageFont.truetype(font, fontSize)\n",
    "    img = Image.new('RGB', (width, height), color = (255, 255, 255))\n",
    "    draw = ImageDraw.Draw(img)\n",
    "    draw = draw.text(coordinates, character, fill = (0, 0, 0), font = font)\n",
    "    img.save(destination.format(character))"
   ]
  },
  {
   "cell_type": "code",
   "execution_count": 278,
   "metadata": {},
   "outputs": [],
   "source": [
    "# Create PNG files of all persian characters\n",
    "def createAllPNG (listOfCharacter):\n",
    "    if len(listOfCharacter) == 10:\n",
    "        for number in range(len(listOfCharacter)):\n",
    "            if number == 0:\n",
    "                setupPNGCharacter((-2, -14), listOfCharacter[number], width = 54, height = 82,\n",
    "                                  font = \"BNazanin.ttf\", fontSize = 130)\n",
    "            else:\n",
    "                setupPNGCharacter((-3, -10), listOfCharacter[number], width = 54, height = 82,\n",
    "                                  font = \"BNazanin.ttf\", fontSize = 130)\n",
    "    else:\n",
    "        for characterIndex in range(1, len(listOfCharacter)):\n",
    "            setupPNGCharacter((-3, -5), listOfCharacter[characterIndex], width = 90, height = 95,\n",
    "                                  font = \"BNazanin.ttf\", fontSize = 100)"
   ]
  },
  {
   "cell_type": "code",
   "execution_count": 279,
   "metadata": {},
   "outputs": [],
   "source": [
    "createAllPNG(numbersList)\n",
    "createAllPNG(characterList)"
   ]
  },
  {
   "cell_type": "code",
   "execution_count": 280,
   "metadata": {},
   "outputs": [],
   "source": [
    "# for prepare background and foreground image\n",
    "def imageManager (character, width, height, nameOfSavedFile,\n",
    "                  backgroundImage = 'Background.png',\n",
    "                  foregroundImage = 'PersianCharacterslist/{}.png'):\n",
    "    background = Image.open(backgroundImage)\n",
    "    foreground = Image.open(foregroundImage.format(character))\n",
    "    background.paste(foreground, (width, height))\n",
    "    background.save(nameOfSavedFile)"
   ]
  },
  {
   "cell_type": "code",
   "execution_count": 281,
   "metadata": {},
   "outputs": [],
   "source": [
    "# 1. Create images of all characters in different positions\n",
    "# 2. Create summary of files\n",
    "# 3. Create csv files in format image name, xmin, ymin, xmax, ymax, ClassID"
   ]
  },
  {
   "cell_type": "code",
   "execution_count": 282,
   "metadata": {},
   "outputs": [],
   "source": [
    "# for finding character and it's coordinates\n",
    "def searchAndAppendCharacter(character, name, xmin, xmax, ymin, ymax):\n",
    "    classOfChracter = np.where(classesText == character)[0][0]\n",
    "    xmin = xmin\n",
    "    ymin = ymin\n",
    "    xmax = xmax\n",
    "    ymax = ymax\n",
    "    return [name, xmin, ymin, xmax, ymax, classOfChracter]"
   ]
  },
  {
   "cell_type": "code",
   "execution_count": 283,
   "metadata": {},
   "outputs": [],
   "source": [
    "# for numbers\n",
    "# width = 61 to 406\n",
    "# heigth = 8 to 38\n",
    "def createRandomCharactersInPlates():\n",
    "    listOfInformation = []\n",
    "    imageNumber = 0\n",
    "    for number in range(1, 11):\n",
    "        for step in range(50):\n",
    "            width = np.random.choice(np.linspace(61, 406, 346, dtype = int))\n",
    "            height = np.random.choice(np.linspace(8, 38, 31, dtype = int))\n",
    "            imageName = '{}.png'.format(imageNumber)\n",
    "            imageManager (classesText[number], width, height, 'test/{}'.format(imageName))\n",
    "            listOfInformation.append(searchAndAppendCharacter(classesText[number], imageName, width, width + 54,\n",
    "                                                                  height, height + 82))\n",
    "            imageNumber += 1\n",
    "# for characters\n",
    "# width = 61 to 370\n",
    "# heigth = 8 to 26\n",
    "    imageNumber = 500\n",
    "    for character in range(12, 43):\n",
    "        for step in range(30):\n",
    "            width = np.random.choice(np.linspace(61, 370, 310, dtype = int))\n",
    "            height = np.random.choice(np.linspace(8, 26, 19, dtype = int))\n",
    "            imageName = '{}.png'.format(imageNumber)\n",
    "            imageManager (classesText[character], width, height, 'test/{}'.format(imageName))\n",
    "            listOfInformation.append(searchAndAppendCharacter(classesText[character], imageName, width, width + 90,\n",
    "                                                                  height, height + 95))\n",
    "            imageNumber += 1\n",
    "    return listOfInformation"
   ]
  },
  {
   "cell_type": "code",
   "execution_count": null,
   "metadata": {
    "scrolled": true
   },
   "outputs": [],
   "source": [
    "test = createRandomCharactersInPlates()"
   ]
  },
  {
   "cell_type": "code",
   "execution_count": null,
   "metadata": {},
   "outputs": [],
   "source": []
  }
 ],
 "metadata": {
  "kernelspec": {
   "display_name": "Python 3",
   "language": "python",
   "name": "python3"
  },
  "language_info": {
   "codemirror_mode": {
    "name": "ipython",
    "version": 3
   },
   "file_extension": ".py",
   "mimetype": "text/x-python",
   "name": "python",
   "nbconvert_exporter": "python",
   "pygments_lexer": "ipython3",
   "version": "3.6.3"
  }
 },
 "nbformat": 4,
 "nbformat_minor": 2
}
