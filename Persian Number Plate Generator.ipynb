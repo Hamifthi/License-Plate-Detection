{
 "cells": [
  {
   "cell_type": "code",
   "execution_count": 1,
   "metadata": {},
   "outputs": [],
   "source": [
    "import os\n",
    "import time\n",
    "import pandas as pd\n",
    "import numpy as np\n",
    "import scipy as sc\n",
    "import scipy.misc\n",
    "import matplotlib.pyplot as plt\n",
    "import matplotlib.patches as patches\n",
    "from PIL import Image, ImageDraw, ImageFont"
   ]
  },
  {
   "cell_type": "code",
   "execution_count": 2,
   "metadata": {},
   "outputs": [],
   "source": [
    "# List of characters and classes\n",
    "characterList = np.array('الف ب پ ت ث ج چ ح خ د ذ ر ز ژ س ش ص ض ط ظ ع غ ف ق ک گ ل م ن و ه ی'.split(' '))\n",
    "numbersList = np.array('۰ ۱ ۲ ۳ ۴ ۵ ۶ ۷ ۸ ۹'.split(' '))\n",
    "func = np.vectorize(str)\n",
    "classesText = np.concatenate([np.array(['background']), func(numbersList), characterList])"
   ]
  },
  {
   "cell_type": "code",
   "execution_count": 3,
   "metadata": {},
   "outputs": [],
   "source": [
    "# function for setup repetitive setup images\n",
    "def setupPNGCharacter(coordinates, character, width, height, fontSize, font = \"BNazanin.ttf\",\n",
    "    destination = 'E:/Hamed/Projects/Python/License Plate Detection/License-Plate-Detection/PersianCharactersList/{}.png'):\n",
    "    if type(coordinates) != tuple:\n",
    "        raise TypeError('Coordinates must be tuple')\n",
    "    font = ImageFont.truetype(font, fontSize)\n",
    "    img = Image.new('RGB', (width, height), color = (255, 255, 255))\n",
    "    draw = ImageDraw.Draw(img)\n",
    "    draw = draw.text(coordinates, character, fill = (0, 0, 0), font = font)\n",
    "    img.save(destination.format(character))"
   ]
  },
  {
   "cell_type": "code",
   "execution_count": 4,
   "metadata": {},
   "outputs": [],
   "source": [
    "# Create PNG files of all persian characters\n",
    "def createAllPNG(listOfCharacter):\n",
    "    if len(listOfCharacter) == 10:\n",
    "        for number in range(len(listOfCharacter)):\n",
    "            if number == 0:\n",
    "                setupPNGCharacter((-2, -14), listOfCharacter[number], width = 54, height = 82,\n",
    "                                  font = \"BNazanin.ttf\", fontSize = 130)\n",
    "                setupPNGCharacter((-2, -11), listOfCharacter[number], width = 45, height = 70,\n",
    "                                  font = \"BNazanin.ttf\", fontSize = 110,\n",
    "                                  destination = 'E:/Hamed/Projects/Python/License Plate Detection/License-Plate-Detection/PersianCharactersList/smaller{}.png')\n",
    "            else:\n",
    "                setupPNGCharacter((-3, -10), listOfCharacter[number], width = 54, height = 82,\n",
    "                                  font = \"BNazanin.ttf\", fontSize = 130)\n",
    "                setupPNGCharacter((-3, -8), listOfCharacter[number], width = 45, height = 70,\n",
    "                                  font = \"BNazanin.ttf\", fontSize = 110,\n",
    "                                 destination = 'E:/Hamed/Projects/Python/License Plate Detection/License-Plate-Detection/PersianCharactersList/smaller{}.png')\n",
    "    else:\n",
    "        for characterIndex in range(1, len(listOfCharacter)):\n",
    "            setupPNGCharacter((-3, -5), listOfCharacter[characterIndex], width = 90, height = 95,\n",
    "                                  font = \"BNazanin.ttf\", fontSize = 100)"
   ]
  },
  {
   "cell_type": "code",
   "execution_count": 5,
   "metadata": {},
   "outputs": [],
   "source": [
    "createAllPNG(numbersList)\n",
    "createAllPNG(characterList)"
   ]
  },
  {
   "cell_type": "code",
   "execution_count": 6,
   "metadata": {},
   "outputs": [],
   "source": [
    "# for prepare background and foreground image\n",
    "def imageManager(character, width, height, nameOfSavedFile,\n",
    "                  foregroundImage = 'PersianCharacterslist/{}.png',\n",
    "                  backgroundImage = 'Background.png'):\n",
    "    background = Image.open(backgroundImage)\n",
    "    foreground = Image.open(foregroundImage.format(character))\n",
    "    background.paste(foreground, (width, height))\n",
    "    background.save(nameOfSavedFile)"
   ]
  },
  {
   "cell_type": "code",
   "execution_count": 7,
   "metadata": {},
   "outputs": [],
   "source": [
    "# 1. Create images of all characters in different positions\n",
    "# 2. Create summary of files\n",
    "# 3. Create csv files in format image name, xmin, ymin, xmax, ymax, ClassID"
   ]
  },
  {
   "cell_type": "code",
   "execution_count": 8,
   "metadata": {},
   "outputs": [],
   "source": [
    "# for finding character and it's coordinates\n",
    "def searchAndAppendCharacter(character, name, xmin, xmax, ymin, ymax):\n",
    "    classOfChracter = np.where(classesText == character)[0][0]\n",
    "    xmin = xmin\n",
    "    ymin = ymin\n",
    "    xmax = xmax\n",
    "    ymax = ymax\n",
    "    return [name, xmin, ymin, xmax, ymax, classOfChracter]"
   ]
  },
  {
   "cell_type": "code",
   "execution_count": 9,
   "metadata": {},
   "outputs": [],
   "source": [
    "def createSingelCharacter(widthPeriod, heightPeriod, imageNumber, kind, number, imageWidth, imageHeight,\n",
    "                          listOfInformation, **kwargs):\n",
    "    width = np.random.choice(np.arange(widthPeriod[0], widthPeriod[1]))\n",
    "    height = np.random.choice(np.arange(heightPeriod[0], heightPeriod[1]))\n",
    "    imageName = '{}.png'.format(imageNumber)\n",
    "    imageManager (classesText[number], width, height, 'charOnPlates/{}/{}'.format(kind, imageName), **kwargs)\n",
    "    listOfInformation = listOfInformation.append(searchAndAppendCharacter(classesText[number], imageName,\n",
    "                                                width,width + imageWidth,height, height + imageHeight))"
   ]
  },
  {
   "cell_type": "code",
   "execution_count": 10,
   "metadata": {},
   "outputs": [],
   "source": [
    "# for numbers\n",
    "# width = 61 to 406\n",
    "# heigth = 8 to 38\n",
    "def createRandomCharactersInPlates(kind, numberOfNumbers, numberOfCharacters):\n",
    "    if numberOfNumbers < 15:\n",
    "        raise ValueError('numberOfNumbers must be greater than 15')\n",
    "    listOfInformation = []\n",
    "    imageNumber = 0\n",
    "    for number in range(1, 11):\n",
    "        for step in range(numberOfNumbers - 10):\n",
    "            createSingelCharacter((61, 407), (8, 39), imageNumber, kind, number, 54, 82, listOfInformation)\n",
    "            imageNumber += 1\n",
    "# for smaller numbers\n",
    "# width = 465 to 545\n",
    "# heigth = 30 to 49\n",
    "        for step in range(numberOfNumbers - 10, numberOfNumbers):\n",
    "            createSingelCharacter((465, 546), (30, 50), imageNumber, kind, number, 45, 70, listOfInformation,\n",
    "                                  foregroundImage = 'PersianCharacterslist/smaller{}.png')\n",
    "            imageNumber += 1\n",
    "# for characters\n",
    "# width = 61 to 370\n",
    "# heigth = 8 to 26\n",
    "    imageNumber = numberOfNumbers * 10\n",
    "    for number in range(12, 43):\n",
    "        for step in range(numberOfCharacters):\n",
    "            createSingelCharacter((61, 371), (8, 27), imageNumber, kind, number, 90, 95, listOfInformation)\n",
    "            imageNumber += 1\n",
    "    return listOfInformation"
   ]
  },
  {
   "cell_type": "code",
   "execution_count": 15,
   "metadata": {
    "scrolled": true
   },
   "outputs": [],
   "source": [
    "def createSamplesAndCsv(trainSize, testSize):\n",
    "    trainInformation = createRandomCharactersInPlates('train', int(trainSize / 5 * 4), int(trainSize / 5))\n",
    "    pd.DataFrame(trainInformation).to_csv('train.csv', header = None)\n",
    "    testInformation = createRandomCharactersInPlates('test', int(testSize / 5 * 4), int(testSize / 5))\n",
    "    pd.DataFrame(testInformation).to_csv('test.csv', header = None)"
   ]
  },
  {
   "cell_type": "code",
   "execution_count": null,
   "metadata": {},
   "outputs": [],
   "source": []
  }
 ],
 "metadata": {
  "kernelspec": {
   "display_name": "Python 3",
   "language": "python",
   "name": "python3"
  },
  "language_info": {
   "codemirror_mode": {
    "name": "ipython",
    "version": 3
   },
   "file_extension": ".py",
   "mimetype": "text/x-python",
   "name": "python",
   "nbconvert_exporter": "python",
   "pygments_lexer": "ipython3",
   "version": "3.6.3"
  }
 },
 "nbformat": 4,
 "nbformat_minor": 2
}
