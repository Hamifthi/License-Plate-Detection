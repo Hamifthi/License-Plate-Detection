{
 "cells": [
  {
   "cell_type": "markdown",
   "metadata": {},
   "source": [
    "# width = 61 to 411\n",
    "# heigth = 7 to 46\n",
    "def createRandomNumbersInPlates():\n",
    "    for number in numbersList:\n",
    "        for step in range(200):\n",
    "            width = np.random.choice(np.linspace(61, 411, 351, dtype = int))\n",
    "            heigth = np.random.choice(np.linspace(7, 46, 40, dtype = int))\n",
    "            imageManager (number, width, heigth, 'test/{}{}{}.png'.format(number, width, heigth),backgroundImage = 'Background.png')\n",
    "            \n",
    "createRandomNumbersInPlates()"
   ]
  },
  {
   "cell_type": "code",
   "execution_count": 1,
   "metadata": {},
   "outputs": [],
   "source": [
    "import os\n",
    "import time\n",
    "import pandas as pd\n",
    "import numpy as np\n",
    "import scipy as sc\n",
    "import scipy.misc\n",
    "import matplotlib.pyplot as plt\n",
    "import matplotlib.patches as patches\n",
    "from PIL import Image, ImageDraw, ImageFont"
   ]
  },
  {
   "cell_type": "code",
   "execution_count": 30,
   "metadata": {},
   "outputs": [],
   "source": [
    "# List of characters and classes\n",
    "characterList = np.array('الف ب پ ت ث ج چ ح خ د ذ ر ز ژ س ش ص ض ط ظ ع غ ف ق ک گ ل م ن و ه ی'.split(' '))\n",
    "numbersList = np.array('۰ ۱ ۲ ۳ ۴ ۵ ۶ ۷ ۸ ۹'.split(' '))\n",
    "func = np.vectorize(str)\n",
    "classesText = np.concatenate([np.array(['background']), func(numbersList), characterList])"
   ]
  },
  {
   "cell_type": "code",
   "execution_count": 48,
   "metadata": {},
   "outputs": [],
   "source": [
    "def setupPNGCharacter (coordinates, character, width, height, fontSize, font = \"BNazanin.ttf\",\n",
    "    destination = 'E:/Hamed/Projects/Python/License Plate Detection/License-Plate-Detection/PersianCharactersList/{}.png'):\n",
    "    if type(coordinates) != tuple:\n",
    "        raise TypeError('Coordinates must be tuple')\n",
    "    font = ImageFont.truetype(font, fontSize)\n",
    "    img = Image.new('RGB', (width, height), color = (255, 255, 255))\n",
    "    draw = ImageDraw.Draw(img)\n",
    "    draw = draw.text(coordinates, character, fill = (0, 0, 0), font = font)\n",
    "    img.save(destination.format(character))"
   ]
  },
  {
   "cell_type": "code",
   "execution_count": 132,
   "metadata": {},
   "outputs": [],
   "source": [
    "setupPNGCharacter ((-5, -7), 'ل', width = 57, height = 76, fontSize = 90, font = \"BNazanin.ttf\",\n",
    "    destination = 'E:/Hamed/Projects/Python/License Plate Detection/License-Plate-Detection/PersianCharactersList/{}.png')"
   ]
  },
  {
   "cell_type": "code",
   "execution_count": 271,
   "metadata": {},
   "outputs": [],
   "source": [
    "def createAllPNG (listOfCharacter):\n",
    "    if len(listOfCharacter) == 10:\n",
    "        for number in range(len(listOfCharacter)):\n",
    "            if number == 0:\n",
    "                setupPNGCharacter((-4, -18), listOfCharacter[number], width = 60, height = 90,\n",
    "                                  font = \"BNazanin.ttf\", fontSize = 150)\n",
    "            else:\n",
    "                setupPNGCharacter((-3, -11), listOfCharacter[number], width = 63, height = 92,\n",
    "                                  font = \"BNazanin.ttf\", fontSize = 150)\n",
    "    else:\n",
    "        for characterIndex in range(1, len(listOfCharacter)):\n",
    "            if characterIndex < 5 or characterIndex == 22:\n",
    "                setupPNGCharacter((-4, -8), listOfCharacter[characterIndex], width = 60, height = 80,\n",
    "                                  font = \"BNazanin.ttf\", fontSize = 90)\n",
    "            elif characterIndex >= 5 and characterIndex < 9 or characterIndex == 23:\n",
    "                setupPNGCharacter((4, -15), listOfCharacter[characterIndex], width = 60, height = 80,\n",
    "                                  font = \"BNazanin.ttf\", fontSize = 90)\n",
    "            elif characterIndex >= 9 and characterIndex < 11:\n",
    "                setupPNGCharacter((10, -2), listOfCharacter[characterIndex], width = 60, height = 80,\n",
    "                                  font = \"BNazanin.ttf\", fontSize = 90)\n",
    "            elif characterIndex >= 11 and characterIndex < 14:\n",
    "                setupPNGCharacter((14, -13), listOfCharacter[characterIndex], width = 60, height = 80,\n",
    "                                  font = \"BNazanin.ttf\", fontSize = 90)\n",
    "            elif characterIndex >= 14 and characterIndex < 18:\n",
    "                setupPNGCharacter((-4, -13), listOfCharacter[characterIndex], width = 80, height = 80,\n",
    "                                  font = \"BNazanin.ttf\", fontSize = 90)\n",
    "            elif characterIndex >= 18 and characterIndex < 20:\n",
    "                setupPNGCharacter((-3, 5), listOfCharacter[characterIndex], width = 60, height = 80,\n",
    "                                  font = \"BNazanin.ttf\", fontSize = 90)\n",
    "            elif characterIndex >= 20 and characterIndex < 22:\n",
    "                setupPNGCharacter((5, -7), listOfCharacter[characterIndex], width = 60, height = 80,\n",
    "                                  font = \"BNazanin.ttf\", fontSize = 90)\n",
    "            elif characterIndex >= 24 and characterIndex < 26:\n",
    "                setupPNGCharacter((-5, 3), listOfCharacter[characterIndex], width = 70, height = 80,\n",
    "                                  font = \"BNazanin.ttf\", fontSize = 90)\n",
    "            elif characterIndex >= 27 and characterIndex < 31:\n",
    "                setupPNGCharacter((6, -9), listOfCharacter[characterIndex], width = 60, height = 80,\n",
    "                                  font = \"BNazanin.ttf\", fontSize = 90)"
   ]
  },
  {
   "cell_type": "code",
   "execution_count": 272,
   "metadata": {},
   "outputs": [],
   "source": [
    "createAllPNG(numbersList)\n",
    "createAllPNG(characterList)"
   ]
  },
  {
   "cell_type": "code",
   "execution_count": null,
   "metadata": {},
   "outputs": [],
   "source": []
  }
 ],
 "metadata": {
  "kernelspec": {
   "display_name": "Python 3",
   "language": "python",
   "name": "python3"
  },
  "language_info": {
   "codemirror_mode": {
    "name": "ipython",
    "version": 3
   },
   "file_extension": ".py",
   "mimetype": "text/x-python",
   "name": "python",
   "nbconvert_exporter": "python",
   "pygments_lexer": "ipython3",
   "version": "3.6.3"
  }
 },
 "nbformat": 4,
 "nbformat_minor": 2
}
