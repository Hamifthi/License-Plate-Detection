{
 "cells": [
  {
   "cell_type": "code",
   "execution_count": 6,
   "metadata": {},
   "outputs": [],
   "source": [
    "import PIL.Image as Image\n",
    "import numpy as np\n",
    "import matplotlib.pyplot as plt\n",
    "import glob\n",
    "import os"
   ]
  },
  {
   "cell_type": "code",
   "execution_count": 7,
   "metadata": {},
   "outputs": [],
   "source": [
    "def cropImages(imageName, left, upper, right, lower):\n",
    "    image = Image.open('{}.jpg'.format(imageName))\n",
    "    image = image.crop((left, upper, right, lower))\n",
    "    image.save('crop{}.jpg'.format(imageName))"
   ]
  },
  {
   "cell_type": "code",
   "execution_count": null,
   "metadata": {},
   "outputs": [],
   "source": [
    "def reName(dataset):\n",
    "    datasetFiles = glob.glob('NumberPlateGenerator/{}/*.jpg'.format(dataset))\n",
    "    for i in range(len(datasetFiles)):\n",
    "        image = Image.open(datasetFiles[i])\n",
    "        image.save('NumberPlateGenerator/{}/{}.jpg'.format(dataset, i))\n",
    "        os.remove()"
   ]
  },
  {
   "cell_type": "code",
   "execution_count": 11,
   "metadata": {},
   "outputs": [],
   "source": [
    "plateFiles = glob.glob('NumberPlateGenerator/dataset/*.jpg')\n",
    "for i in range(len(plateFiles)):\n",
    "    image = Image.open(plateFiles[i])\n",
    "    image.save('NumberPlateGenerator/Plates/{}.jpg'.format(i))"
   ]
  },
  {
   "cell_type": "code",
   "execution_count": 12,
   "metadata": {},
   "outputs": [],
   "source": [
    "backgroundFiles = glob.glob('NumberPlateGenerator/Backgrounds/*.jpg')\n",
    "for i in range(len(backgroundFiles)):\n",
    "    image = Image.open(backgroundFiles[i])\n",
    "    image.save('NumberPlateGenerator/Backgrounds/{}.jpg'.format(i))"
   ]
  },
  {
   "cell_type": "code",
   "execution_count": null,
   "metadata": {},
   "outputs": [],
   "source": [
    "def "
   ]
  }
 ],
 "metadata": {
  "kernelspec": {
   "display_name": "Python 3",
   "language": "python",
   "name": "python3"
  },
  "language_info": {
   "codemirror_mode": {
    "name": "ipython",
    "version": 3
   },
   "file_extension": ".py",
   "mimetype": "text/x-python",
   "name": "python",
   "nbconvert_exporter": "python",
   "pygments_lexer": "ipython3",
   "version": "3.6.3"
  }
 },
 "nbformat": 4,
 "nbformat_minor": 2
}
