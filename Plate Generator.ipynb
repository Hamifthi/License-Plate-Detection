{
 "cells": [
  {
   "cell_type": "code",
   "execution_count": 54,
   "metadata": {},
   "outputs": [],
   "source": [
    "import PIL.Image as Image\n",
    "import numpy as np\n",
    "import matplotlib.pyplot as plt\n",
    "import pandas as pd\n",
    "import glob\n",
    "import os"
   ]
  },
  {
   "cell_type": "code",
   "execution_count": 17,
   "metadata": {},
   "outputs": [],
   "source": [
    "plateFiles = glob.glob('Plates/*.jpg')\n",
    "listOfPlates = []\n",
    "for i in range(len(plateFiles)):\n",
    "    image = Image.open(plateFiles[i])\n",
    "    image.save('Plates/{}.jpg'.format(i))\n",
    "    listOfPlates.append(i)"
   ]
  },
  {
   "cell_type": "code",
   "execution_count": 3,
   "metadata": {},
   "outputs": [],
   "source": [
    "backgroundFiles = glob.glob('Backgrounds/*.jpg')\n",
    "listOfBackgrounds = []\n",
    "for i in range(len(backgroundFiles)):\n",
    "    image = Image.open(backgroundFiles[i])\n",
    "    image.save('Backgrounds/{}.jpg'.format(i))\n",
    "    listOfBackgrounds.append(i)"
   ]
  },
  {
   "cell_type": "code",
   "execution_count": 12,
   "metadata": {},
   "outputs": [],
   "source": [
    "def pickRandomPlate():\n",
    "    randomPlate = np.random.choice(listOfPlates)\n",
    "    randomPlate = Image.open('Plates/{}.jpg'.format(randomPlate))\n",
    "    return randomPlate"
   ]
  },
  {
   "cell_type": "code",
   "execution_count": 13,
   "metadata": {},
   "outputs": [],
   "source": [
    "def pickAndCropRandomBackground():\n",
    "    randomBackground = np.random.choice(listOfBackgrounds)\n",
    "    randomBackground = Image.open('Backgrounds/{}.jpg'.format(randomBackground))\n",
    "    left = np.random.choice(np.arange(0, randomBackground.size[0] - 300))\n",
    "    upper = np.random.choice(np.arange(0, randomBackground.size[1] - 300))\n",
    "    right = left + 300\n",
    "    lower = upper + 300\n",
    "    cropRandomBackground = randomBackground.crop((left, upper, right, lower))\n",
    "    return cropRandomBackground"
   ]
  },
  {
   "cell_type": "code",
   "execution_count": 61,
   "metadata": {},
   "outputs": [],
   "source": [
    "def createRandomImage(numberOfImages, typeOfImages):\n",
    "    information = []\n",
    "    for i in range(numberOfImages):\n",
    "        background = pickAndCropRandomBackground()\n",
    "        plate = pickRandomPlate()\n",
    "        width = np.random.choice(np.arange(0, 300 - plate.size[0]))\n",
    "        height = np.random.choice(np.arange(0, 300 - plate.size[1]))\n",
    "        background.paste(plate, (width, height))\n",
    "        background.save('Images/{}/{}.jpg'.format(typeOfImages, i))\n",
    "        information.append(['{}.jpg'.format(i), width, width + plate.size[0], height, height + plate.size[1], 1])\n",
    "    pd.DataFrame(information, columns = ['image_name', 'xmin', 'xmax', 'ymin', 'ymax', 'class_id']).to_csv('Images/{}.csv'.format(typeOfImages), index = None)"
   ]
  }
 ],
 "metadata": {
  "kernelspec": {
   "display_name": "Python 3",
   "language": "python",
   "name": "python3"
  },
  "language_info": {
   "codemirror_mode": {
    "name": "ipython",
    "version": 3
   },
   "file_extension": ".py",
   "mimetype": "text/x-python",
   "name": "python",
   "nbconvert_exporter": "python",
   "pygments_lexer": "ipython3",
   "version": "3.6.3"
  }
 },
 "nbformat": 4,
 "nbformat_minor": 2
}
