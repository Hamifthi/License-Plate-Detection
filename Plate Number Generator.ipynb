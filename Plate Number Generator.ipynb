{
 "cells": [
  {
   "cell_type": "code",
   "execution_count": 464,
   "metadata": {},
   "outputs": [],
   "source": [
    "import pandas as pd\n",
    "import numpy as np\n",
    "import scipy as sc\n",
    "import scipy.misc\n",
    "import matplotlib.pyplot as plt\n",
    "from PIL import Image, ImageDraw, ImageFont"
   ]
  },
  {
   "cell_type": "code",
   "execution_count": 465,
   "metadata": {},
   "outputs": [],
   "source": [
    "# List of characters and a function for selecting random character\n",
    "characterList = np.array('A B C D E F G H I J K L M N O P Q R S T U V W X Y Z'.split(' '))\n",
    "numbersList = np.array([0, 1, 2, 3, 4, 5, 6, 7, 8, 9], dtype = int)\n",
    "def selectorOFCharacters (listOfCharactor):\n",
    "    character = np.random.choice(listOfCharactor)\n",
    "    if type(character) == np.str_:\n",
    "        return str(character)\n",
    "    else:\n",
    "        return int(character)"
   ]
  },
  {
   "cell_type": "code",
   "execution_count": 466,
   "metadata": {},
   "outputs": [],
   "source": [
    "# Generating fake number Plates characters for images\n",
    "def plateGenerator (numberOfPlates):\n",
    "    platesList = []\n",
    "    for i in range(numberOfPlates):\n",
    "        plateList = []\n",
    "        for j in range(8):\n",
    "            if j == 3:\n",
    "                plateList.append(selectorOFCharacters(characterList))\n",
    "            else:\n",
    "                plateList.append(selectorOFCharacters(numbersList))\n",
    "        platesList.append(plateList)\n",
    "    platesList = np.array(platesList)\n",
    "    return platesList"
   ]
  },
  {
   "cell_type": "code",
   "execution_count": 467,
   "metadata": {},
   "outputs": [],
   "source": [
    "# Create PNG files of characters\n",
    "def createPNGFiles (charactersList):\n",
    "    font = ImageFont.truetype(\"arial.ttf\", 95)\n",
    "    if isinstance(charactersList[0], str):\n",
    "        for character in charactersList:\n",
    "            if character == 'W':\n",
    "                img = Image.new('RGB', (90, 75), color = (255, 255, 255))\n",
    "                draw = ImageDraw.Draw(img)\n",
    "                draw = draw.text((0, -16), character, fill = (0, 0, 0), font = font)\n",
    "                img.save('E:/Hamed/Projects/Python/License Plate Detection/License-Plate-Detection/Characterslist/{}.png'.format(character))\n",
    "            elif character == 'M':\n",
    "                img = Image.new('RGB', (70, 75), color = (255, 255, 255))\n",
    "                draw = ImageDraw.Draw(img)\n",
    "                draw = draw.text((-4, -15), character, fill = (0, 0, 0), font = font)\n",
    "                img.save('E:/Hamed/Projects/Python/License Plate Detection/License-Plate-Detection/Characterslist/{}.png'.format(character))\n",
    "            elif character == 'G':\n",
    "                img = Image.new('RGB', (70, 75), color = (255, 255, 255))\n",
    "                draw = ImageDraw.Draw(img)\n",
    "                draw = draw.text((-2, -15), character, fill = (0, 0, 0), font = font)\n",
    "                img.save('E:/Hamed/Projects/Python/License Plate Detection/License-Plate-Detection/Characterslist/{}.png'.format(character))\n",
    "            elif character == 'O':\n",
    "                img = Image.new('RGB', (70, 75), color = (255, 255, 255))\n",
    "                draw = ImageDraw.Draw(img)\n",
    "                draw = draw.text((-2, -15), character, fill = (0, 0, 0), font = font)\n",
    "                img.save('E:/Hamed/Projects/Python/License Plate Detection/License-Plate-Detection/Characterslist/{}.png'.format(character))\n",
    "            elif character == 'Q':\n",
    "                img = Image.new('RGB', (70, 78), color = (255, 255, 255))\n",
    "                draw = ImageDraw.Draw(img)\n",
    "                draw = draw.text((-2, -15), character, fill = (0, 0, 0), font = font)\n",
    "                img.save('E:/Hamed/Projects/Python/License Plate Detection/License-Plate-Detection/Characterslist/{}.png'.format(character))\n",
    "            else:\n",
    "                img = Image.new('RGB', (68, 75), color = (255, 255, 255))\n",
    "                draw = ImageDraw.Draw(img)\n",
    "                draw = draw.text((0, -14), character, fill = (0, 0, 0), font = font)\n",
    "                img.save('E:/Hamed/Projects/Python/License Plate Detection/License-Plate-Detection/Characterslist/{}.png'.format(character))\n",
    "    else:\n",
    "        for character in charactersList:\n",
    "            character = str(character)\n",
    "            img = Image.new('RGB', (50, 75), color = (255, 255, 255))\n",
    "            draw = ImageDraw.Draw(img)\n",
    "            draw = draw.text((-1, -15), character, fill = (0, 0, 0), font = font)\n",
    "            img.save('E:/Hamed/Projects/Python/License Plate Detection/License-Plate-Detection/Characterslist/{}.png'.format(character))"
   ]
  },
  {
   "cell_type": "code",
   "execution_count": 468,
   "metadata": {},
   "outputs": [],
   "source": [
    "createPNGFiles(characterList)\n",
    "createPNGFiles(numbersList)"
   ]
  },
  {
   "cell_type": "code",
   "execution_count": 469,
   "metadata": {},
   "outputs": [],
   "source": [
    "# Preparing characters of number Plates for png files\n",
    "def joinigPartsOfPlates (numberOfPlates):\n",
    "    plates = plateGenerator(numberOfPlates)\n",
    "    listOfFirstPart = np.array(list(map(lambda number:''.join(number), plates[:, :6]))).reshape(-1, 1)\n",
    "    listOfSecondPart = np.array(list(map(lambda number:''.join(number), plates[:, 6:]))).reshape(-1, 1)\n",
    "    return np.concatenate([listOfFirstPart, listOfSecondPart], axis = 1)"
   ]
  },
  {
   "cell_type": "code",
   "execution_count": 470,
   "metadata": {},
   "outputs": [],
   "source": [
    "def createBackgrounds (numberOfPlates):\n",
    "    plates = joinigPartsOfPlates(numberOfPlates)\n",
    "    for number in range(len(plates)):\n",
    "        background = Image.open('background.png')\n",
    "        background.save('Backgrounds/{}{}.png'.format(plates[number, 0], plates[number, 1]))"
   ]
  },
  {
   "cell_type": "code",
   "execution_count": 379,
   "metadata": {},
   "outputs": [],
   "source": [
    "# Create PNG files\n",
    "# def createPNGFiles(platesList):\n",
    "#     for character in platesList[:, 0]:\n",
    "#         img = Image.new('RGB', (370, 100), color = (255, 255, 255))\n",
    "#         draw = ImageDraw.Draw(img)\n",
    "#         font = ImageFont.truetype(\"arial.ttf\", 100)\n",
    "#         draw = draw.text((0, -6), character, fill = (0, 0, 0), font = font)\n",
    "#         img.save('Plate Pieces/{}.png'.format(character))\n",
    "#     for character in platesList[:, 1]:\n",
    "#         img = Image.new('RGB', (95, 70), color = (255, 255, 255))\n",
    "#         draw = ImageDraw.Draw(img)\n",
    "#         font = ImageFont.truetype(\"arial.ttf\", 90)\n",
    "#         draw = draw.text((-2, -14), character, fill = (0, 0, 0), font = font)\n",
    "#         img.save('Plate Pieces/{}.png'.format(character))"
   ]
  },
  {
   "cell_type": "code",
   "execution_count": 380,
   "metadata": {},
   "outputs": [],
   "source": [
    "# creating real number Plates\n",
    "background = Image.open('composite.png')\n",
    "def createNumberPlates (numberOfPlates):\n",
    "    plates = joinigPartsOfPlates(plateGenerator(numberOfPlates))\n",
    "    for number in range(len(plates[:, 0])):\n",
    "        foreground = Image.open('Characterslist/{}.png'.format(plates[number, 0]))\n",
    "        background.paste(foreground, (85, 26))\n",
    "        background.save('Plate Pieces/{}.png'.format(firstCharacters))\n",
    "    for number in range(len(plates)):\n",
    "        background = Image.open('Characterslist/{}.png'.format(plates[number, 0]))\n",
    "        foreground = Image.open('Characterslist/{}.png'.format(plates[number, 1]))\n",
    "        background.paste(foreground, (480, 42))\n",
    "        background.save('Final Plates/{}{}.png'.format(plates[number, 0], plates[number, 1]))"
   ]
  },
  {
   "cell_type": "code",
   "execution_count": 417,
   "metadata": {},
   "outputs": [],
   "source": [
    "img = Image.new('RGB', (46, 68), color = (255, 255, 255))\n",
    "draw = ImageDraw.Draw(img)\n",
    "font = ImageFont.truetype(\"arial.ttf\", 90)\n",
    "draw = draw.text((-2, -16), '5', fill = (0, 0, 0), font = font)\n",
    "img.save('smaller5.png')"
   ]
  },
  {
   "cell_type": "code",
   "execution_count": 418,
   "metadata": {},
   "outputs": [],
   "source": [
    "background = Image.open('composite.png')\n",
    "foreground = Image.open('2.png')\n",
    "background.paste(foreground, (85, 26))\n",
    "background.save('sample.png')"
   ]
  },
  {
   "cell_type": "code",
   "execution_count": 419,
   "metadata": {},
   "outputs": [],
   "source": [
    "background = Image.open('sample.png')\n",
    "foreground = Image.open('2.png')\n",
    "background.paste(foreground, (140, 26))\n",
    "background.save('sample.png')"
   ]
  },
  {
   "cell_type": "code",
   "execution_count": 420,
   "metadata": {},
   "outputs": [],
   "source": [
    "background = Image.open('sample.png')\n",
    "foreground = Image.open('3.png')\n",
    "background.paste(foreground, (195, 26))\n",
    "background.save('sample.png')"
   ]
  },
  {
   "cell_type": "code",
   "execution_count": 421,
   "metadata": {},
   "outputs": [],
   "source": [
    "background = Image.open('sample.png')\n",
    "foreground = Image.open('W.png')\n",
    "background.paste(foreground, (250, 26))\n",
    "background.save('sample.png')"
   ]
  },
  {
   "cell_type": "code",
   "execution_count": 422,
   "metadata": {},
   "outputs": [],
   "source": [
    "background = Image.open('sample.png')\n",
    "foreground = Image.open('4.png')\n",
    "background.paste(foreground, (345, 26))\n",
    "background.save('sample.png')"
   ]
  },
  {
   "cell_type": "code",
   "execution_count": 423,
   "metadata": {},
   "outputs": [],
   "source": [
    "background = Image.open('sample.png')\n",
    "foreground = Image.open('5.png')\n",
    "background.paste(foreground, (400, 26))\n",
    "background.save('sample.png')"
   ]
  },
  {
   "cell_type": "code",
   "execution_count": 424,
   "metadata": {},
   "outputs": [],
   "source": [
    "background = Image.open('sample.png')\n",
    "foreground = Image.open('smaller5.png')\n",
    "background.paste(foreground, (473, 42))\n",
    "background.save('sample.png')"
   ]
  },
  {
   "cell_type": "code",
   "execution_count": 425,
   "metadata": {},
   "outputs": [],
   "source": [
    "background = Image.open('sample.png')\n",
    "foreground = Image.open('smaller5.png')\n",
    "background.paste(foreground, (533, 42))\n",
    "background.save('sample.png')"
   ]
  }
 ],
 "metadata": {
  "kernelspec": {
   "display_name": "Python 3",
   "language": "python",
   "name": "python3"
  },
  "language_info": {
   "codemirror_mode": {
    "name": "ipython",
    "version": 3
   },
   "file_extension": ".py",
   "mimetype": "text/x-python",
   "name": "python",
   "nbconvert_exporter": "python",
   "pygments_lexer": "ipython3",
   "version": "3.6.3"
  }
 },
 "nbformat": 4,
 "nbformat_minor": 2
}
