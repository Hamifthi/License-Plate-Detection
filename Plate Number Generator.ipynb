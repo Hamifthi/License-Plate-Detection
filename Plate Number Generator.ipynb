{
 "cells": [
  {
   "cell_type": "code",
   "execution_count": 1,
   "metadata": {},
   "outputs": [],
   "source": [
    "import os\n",
    "import pandas as pd\n",
    "import numpy as np\n",
    "import scipy as sc\n",
    "import scipy.misc\n",
    "import matplotlib.pyplot as plt\n",
    "from PIL import Image, ImageDraw, ImageFont"
   ]
  },
  {
   "cell_type": "code",
   "execution_count": 2,
   "metadata": {},
   "outputs": [],
   "source": [
    "# List of characters and classes\n",
    "characterList = np.array('A B C D E F G H I J K L M N O P Q R S T U V W X Y Z'.split(' '))\n",
    "numbersList = np.array([0, 1, 2, 3, 4, 5, 6, 7, 8, 9], dtype = int)\n",
    "classes = np.arange(0, 38)\n",
    "func = np.vectorize(str)\n",
    "classesText = np.concatenate([func(numbersList).reshape(-1, 1), characterList.reshape(-1, 1)])"
   ]
  },
  {
   "cell_type": "code",
   "execution_count": 3,
   "metadata": {},
   "outputs": [],
   "source": [
    "# function for selecting random character\n",
    "def selectorOFCharacters (listOfCharactor):\n",
    "    character = np.random.choice(listOfCharactor)\n",
    "    if type(character) == np.str_:\n",
    "        return str(character)\n",
    "    else:\n",
    "        return int(character)"
   ]
  },
  {
   "cell_type": "code",
   "execution_count": 4,
   "metadata": {},
   "outputs": [],
   "source": [
    "# Generating fake number Plates characters for images\n",
    "def plateGenerator (numberOfPlates):\n",
    "    platesList = []\n",
    "    for i in range(numberOfPlates):\n",
    "        plateList = []\n",
    "        for j in range(8):\n",
    "            if j == 2:\n",
    "                plateList.append(selectorOFCharacters(characterList))\n",
    "            else:\n",
    "                plateList.append(selectorOFCharacters(numbersList))\n",
    "        platesList.append(plateList)\n",
    "    platesList = np.array(platesList)\n",
    "    return platesList"
   ]
  },
  {
   "cell_type": "code",
   "execution_count": 34,
   "metadata": {},
   "outputs": [],
   "source": [
    "# function for setup repetitive setup images\n",
    "def setupPNGCharacter (coordinates, character, width = 90, height = 75, font = \"arial.ttf\", fontSize = 95,\n",
    "                      destination = 'E:/Hamed/Projects/Python/License Plate Detection/License-Plate-Detection/Characterslist/{}.png'):\n",
    "    font = ImageFont.truetype(font, fontSize)\n",
    "    img = Image.new('RGB', (width, height), color = (255, 255, 255))\n",
    "    draw = ImageDraw.Draw(img)\n",
    "    if type(coordinates) != tuple:\n",
    "        raise TypeError('Coordinates must be tuple')\n",
    "    draw = draw.text(coordinates, character, fill = (0, 0, 0), font = font)\n",
    "    img.save(destination.format(character))"
   ]
  },
  {
   "cell_type": "code",
   "execution_count": 32,
   "metadata": {},
   "outputs": [],
   "source": [
    "# Create PNG files of characters\n",
    "def createPNGPieces (charactersList):\n",
    "    if isinstance(charactersList[0], str):\n",
    "        for character in charactersList:\n",
    "            if character == 'C':\n",
    "                setupPNGCharacter(coordinates = (10, -16), character = character)\n",
    "            elif character == 'G':\n",
    "                setupPNGCharacter(coordinates = (8, -15), character = character)\n",
    "            elif character == 'I':\n",
    "                setupPNGCharacter(coordinates = (32, -15), character = character)\n",
    "            elif character == 'J':\n",
    "                setupPNGCharacter(coordinates = (23, -15), character = character)\n",
    "            elif character == 'L':\n",
    "                setupPNGCharacter(coordinates = (18, -15), character = character)\n",
    "            elif character == 'M':\n",
    "                setupPNGCharacter(coordinates = (6, -15), character = character)\n",
    "            elif character == 'O':\n",
    "                setupPNGCharacter(coordinates = (8, -15), character = character)\n",
    "            elif character == 'Q':\n",
    "                setupPNGCharacter(coordinates = (7, -15), character = character, height = 78)\n",
    "            elif character == 'W':\n",
    "                setupPNGCharacter(coordinates = (0, -16), character = character)\n",
    "            else:\n",
    "                setupPNGCharacter(coordinates = (14, -14), character = character)\n",
    "    else:\n",
    "        for character in charactersList:\n",
    "            character = str(character)\n",
    "            setupPNGCharacter(coordinates = (-1, -15), character = character, width = 50, height = 75)\n",
    "            setupPNGCharacter(coordinates = (-1, -15), character = character, width = 45, height = 65, fontSize = 85,\n",
    "            destination = 'E:/Hamed/Projects/Python/License Plate Detection/License-Plate-Detection/Characterslist/smaller{}.png')"
   ]
  },
  {
   "cell_type": "code",
   "execution_count": 33,
   "metadata": {},
   "outputs": [],
   "source": [
    "createPNGPieces(characterList)\n",
    "createPNGPieces(numbersList)"
   ]
  },
  {
   "cell_type": "code",
   "execution_count": 26,
   "metadata": {},
   "outputs": [],
   "source": [
    "# Preparing characters of number Plates for png files\n",
    "def joiningPartsOfPlate (plate):\n",
    "    return list(map(lambda number:''.join(number), plate))"
   ]
  },
  {
   "cell_type": "code",
   "execution_count": 29,
   "metadata": {},
   "outputs": [],
   "source": [
    "# creating real number Plates\n",
    "def createNumberPlates (plates):\n",
    "    for plateNumber in range(len(plates)):\n",
    "        image = Image.open('Plate Pieces/composite.png')\n",
    "        background = image.copy()\n",
    "        background.save('Plate Pieces/background.png')\n",
    "        width = 85\n",
    "        for i in range(8):\n",
    "            if i < 2:\n",
    "                background = Image.open('Plate Pieces/background.png')\n",
    "                foreground = Image.open('Characterslist/{}.png'.format(plates[plateNumber, i]))\n",
    "                background.paste(foreground, (width, 26))\n",
    "                background.save('Plate Pieces/background.png')\n",
    "                width += 55\n",
    "            elif i == 2:\n",
    "                background = Image.open('Plate Pieces/background.png')\n",
    "                foreground = Image.open('Characterslist/{}.png'.format(plates[plateNumber, i]))\n",
    "                background.paste(foreground, (width, 26))\n",
    "                background.save('Plate Pieces/background.png')\n",
    "                width += 95\n",
    "            elif i > 2 and i < 6:\n",
    "                background = Image.open('Plate Pieces/background.png')\n",
    "                foreground = Image.open('Characterslist/{}.png'.format(plates[plateNumber, i]))\n",
    "                background.paste(foreground, (width, 26))\n",
    "                background.save('Plate Pieces/background.png')\n",
    "                width += 55\n",
    "            elif i == 6:\n",
    "                background = Image.open('Plate Pieces/background.png')\n",
    "                foreground = Image.open('Characterslist/smaller{}.png'.format(plates[plateNumber, i]))\n",
    "                background.paste(foreground, (472, 42))\n",
    "                background.save('Plate Pieces/background.png')\n",
    "            else:\n",
    "                background = Image.open('Plate Pieces/background.png')\n",
    "                foreground = Image.open('Characterslist/smaller{}.png'.format(plates[plateNumber, i]))\n",
    "                background.paste(foreground, (536, 42))\n",
    "                background.save('Plate Pieces/background.png')\n",
    "        background = Image.open('Plate Pieces/background.png')\n",
    "        name = joiningPartsOfPlate([plates[plateNumber]])[0]\n",
    "        background.save('Plate Pieces/{}.png'.format(name))\n",
    "    os.remove(path = 'Plate Pieces/background.png')"
   ]
  }
 ],
 "metadata": {
  "kernelspec": {
   "display_name": "Python 3",
   "language": "python",
   "name": "python3"
  },
  "language_info": {
   "codemirror_mode": {
    "name": "ipython",
    "version": 3
   },
   "file_extension": ".py",
   "mimetype": "text/x-python",
   "name": "python",
   "nbconvert_exporter": "python",
   "pygments_lexer": "ipython3",
   "version": "3.6.3"
  }
 },
 "nbformat": 4,
 "nbformat_minor": 2
}
