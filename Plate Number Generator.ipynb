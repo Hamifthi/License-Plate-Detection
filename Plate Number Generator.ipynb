{
 "cells": [
  {
   "cell_type": "code",
   "execution_count": 1,
   "metadata": {},
   "outputs": [],
   "source": [
    "import os\n",
    "import time\n",
    "import pandas as pd\n",
    "import numpy as np\n",
    "import scipy as sc\n",
    "import scipy.misc\n",
    "import matplotlib.pyplot as plt\n",
    "import matplotlib.patches as patches\n",
    "from PIL import Image, ImageDraw, ImageFont"
   ]
  },
  {
   "cell_type": "code",
   "execution_count": 2,
   "metadata": {},
   "outputs": [],
   "source": [
    "# List of characters and classes\n",
    "characterList = np.array('A B C D E F G H I J K L M N O P Q R S T U V W X Y Z'.split(' '))\n",
    "numbersList = np.array([0, 1, 2, 3, 4, 5, 6, 7, 8, 9], dtype = int)\n",
    "func = np.vectorize(str)\n",
    "classesText = np.concatenate([func(numbersList), characterList, np.array(['background'])])"
   ]
  },
  {
   "cell_type": "code",
   "execution_count": 3,
   "metadata": {},
   "outputs": [],
   "source": [
    "# function for selecting random character\n",
    "def selectorOFCharacters (listOfCharactor):\n",
    "    character = np.random.choice(listOfCharactor)\n",
    "    if type(character) == np.str_:\n",
    "        return str(character)\n",
    "    else:\n",
    "        return int(character)"
   ]
  },
  {
   "cell_type": "code",
   "execution_count": 4,
   "metadata": {},
   "outputs": [],
   "source": [
    "# Generating fake number Plates characters for images\n",
    "def plateGenerator (numberOfPlates):\n",
    "    platesList = []\n",
    "    for i in range(numberOfPlates):\n",
    "        plateList = []\n",
    "        for j in range(8):\n",
    "            if j == 2:\n",
    "                plateList.append(selectorOFCharacters(characterList))\n",
    "            else:\n",
    "                plateList.append(selectorOFCharacters(numbersList))\n",
    "        platesList.append(plateList)\n",
    "    platesList = np.array(platesList)\n",
    "    return platesList"
   ]
  },
  {
   "cell_type": "code",
   "execution_count": 5,
   "metadata": {},
   "outputs": [],
   "source": [
    "# function for setup repetitive setup images\n",
    "def setupPNGCharacter (coordinates, character, width = 90, height = 75, font = \"arial.ttf\", fontSize = 95,\n",
    "                      destination = 'E:/Hamed/Projects/Python/License Plate Detection/License-Plate-Detection/Characterslist/{}.png'):\n",
    "    font = ImageFont.truetype(font, fontSize)\n",
    "    img = Image.new('RGB', (width, height), color = (255, 255, 255))\n",
    "    draw = ImageDraw.Draw(img)\n",
    "    if type(coordinates) != tuple:\n",
    "        raise TypeError('Coordinates must be tuple')\n",
    "    draw = draw.text(coordinates, character, fill = (0, 0, 0), font = font)\n",
    "    img.save(destination.format(character))"
   ]
  },
  {
   "cell_type": "code",
   "execution_count": 6,
   "metadata": {},
   "outputs": [],
   "source": [
    "# Create PNG files of characters\n",
    "def createPNGPieces (charactersList):\n",
    "    if isinstance(charactersList[0], str):\n",
    "        for character in charactersList:\n",
    "            if character == 'C':\n",
    "                setupPNGCharacter(coordinates = (10, -16), character = character)\n",
    "            elif character == 'G':\n",
    "                setupPNGCharacter(coordinates = (8, -15), character = character)\n",
    "            elif character == 'I':\n",
    "                setupPNGCharacter(coordinates = (32, -15), character = character)\n",
    "            elif character == 'J':\n",
    "                setupPNGCharacter(coordinates = (23, -15), character = character)\n",
    "            elif character == 'L':\n",
    "                setupPNGCharacter(coordinates = (18, -15), character = character)\n",
    "            elif character == 'M':\n",
    "                setupPNGCharacter(coordinates = (6, -15), character = character)\n",
    "            elif character == 'O':\n",
    "                setupPNGCharacter(coordinates = (8, -15), character = character)\n",
    "            elif character == 'Q':\n",
    "                setupPNGCharacter(coordinates = (7, -16), character = character)\n",
    "            elif character == 'W':\n",
    "                setupPNGCharacter(coordinates = (0, -16), character = character)\n",
    "            else:\n",
    "                setupPNGCharacter(coordinates = (14, -14), character = character)\n",
    "    else:\n",
    "        for character in charactersList:\n",
    "            character = str(character)\n",
    "            setupPNGCharacter(coordinates = (-1, -15), character = character, width = 50, height = 75)\n",
    "            setupPNGCharacter(coordinates = (-1, -15), character = character, width = 45, height = 65, fontSize = 85,\n",
    "            destination = 'E:/Hamed/Projects/Python/License Plate Detection/License-Plate-Detection/Characterslist/smaller{}.png')"
   ]
  },
  {
   "cell_type": "code",
   "execution_count": 7,
   "metadata": {},
   "outputs": [],
   "source": [
    "createPNGPieces(characterList)\n",
    "createPNGPieces(numbersList)"
   ]
  },
  {
   "cell_type": "code",
   "execution_count": 8,
   "metadata": {},
   "outputs": [],
   "source": [
    "# Preparing characters of number Plates for png files\n",
    "def joiningPartsOfPlate (plate):\n",
    "    return list(map(lambda number:''.join(number), plate))"
   ]
  },
  {
   "cell_type": "code",
   "execution_count": 9,
   "metadata": {},
   "outputs": [],
   "source": [
    "# for prepare background and foreground image\n",
    "def imageManager (character, width, height, backgroundImage = 'Plate Pieces/background.png',\n",
    "                  foregroundImage = 'Characterslist/{}.png'):\n",
    "    background = Image.open(backgroundImage)\n",
    "    foreground = Image.open(foregroundImage.format(character))\n",
    "    background.paste(foreground, (width, height))\n",
    "    background.save(backgroundImage)"
   ]
  },
  {
   "cell_type": "code",
   "execution_count": 106,
   "metadata": {},
   "outputs": [],
   "source": [
    "# creating real number Plates\n",
    "def createNumberPlates (plates):\n",
    "    for plateNumber in range(len(plates)):\n",
    "        image = Image.open('background.png')\n",
    "        background = image.copy()\n",
    "        background.save('Plate Pieces/background.png')\n",
    "        width = 74\n",
    "        for i in range(6):\n",
    "            if i < 2:\n",
    "                imageManager (plates[plateNumber, i], width, 26)\n",
    "                width += 57\n",
    "            elif i == 2:\n",
    "                imageManager (plates[plateNumber, i], width, 26)\n",
    "                width += 95\n",
    "            else:\n",
    "                imageManager (plates[plateNumber, i], width, 26)\n",
    "                width += 57\n",
    "        width = 474\n",
    "        for i in range(2):\n",
    "            imageManager (plates[plateNumber, i], width, 42)\n",
    "            width += 57\n",
    "        background = Image.open('Plate Pieces/background.png')\n",
    "        name = joiningPartsOfPlate([plates[plateNumber]])[0]\n",
    "        background.save('Plate Pieces/{}.png'.format(name))\n",
    "    os.remove(path = 'Plate Pieces/background.png')"
   ]
  },
  {
   "cell_type": "code",
   "execution_count": 52,
   "metadata": {},
   "outputs": [],
   "source": [
    "# for finding character and it's coordinates\n",
    "def searchAndAppendCharacter(character, listOfChracters, xmin, xmax, ymin = 26, ymax = 101):\n",
    "    classOfChracter = np.where(classesText == character)[0][0]\n",
    "    xmin = xmin\n",
    "    ymin = ymin\n",
    "    xmax = xmax\n",
    "    ymax = ymax\n",
    "    listOfChracters = listOfChracters.append([classOfChracter, xmin, ymin, xmax, ymax])"
   ]
  },
  {
   "cell_type": "code",
   "execution_count": 332,
   "metadata": {},
   "outputs": [],
   "source": [
    "# This function gonna make data classes and coordinates\n",
    "def summary (plates):\n",
    "    # make a list for all plates\n",
    "    listOfAllSummeries = []\n",
    "    for plate in plates:\n",
    "        # make a list for one plate\n",
    "        listOfThisPlateSummery = []\n",
    "        xMin = 74\n",
    "        for character in range(6):\n",
    "            # first find the classes and texes\n",
    "            # second add coordinates\n",
    "            # third add them together\n",
    "            if character < 2:\n",
    "                searchAndAppendCharacter(plate[character], listOfThisPlateSummery, xMin, xMin + 50)\n",
    "                xMin += 57\n",
    "            elif character == 2:\n",
    "                searchAndAppendCharacter(plate[character], listOfThisPlateSummery, 188, xMin + 93)\n",
    "                xMin += 95\n",
    "            else:\n",
    "                searchAndAppendCharacter(plate[character], listOfThisPlateSummery, xMin, xMin + 50)\n",
    "                xMin += 57\n",
    "        xMin = 474\n",
    "        for character in range(2):\n",
    "            searchAndAppendCharacter(plate[character], listOfThisPlateSummery, xMin, xMin + 45, 42, 107)\n",
    "            xMin += 57\n",
    "        searchAndAppendCharacter('background', listOfThisPlateSummery, 0, 600, 0, 130)\n",
    "        listOfThisPlateSummery = np.array(listOfThisPlateSummery)\n",
    "        listOfAllSummeries.append(listOfThisPlateSummery)\n",
    "    return np.array(listOfAllSummeries)"
   ]
  },
  {
   "cell_type": "code",
   "execution_count": 333,
   "metadata": {},
   "outputs": [
    {
     "data": {
      "text/plain": [
       "array([[[  9,  74,  26, 124, 101],\n",
       "        [  9, 131,  26, 181, 101],\n",
       "        [ 23, 188,  26, 281, 101],\n",
       "        [  0, 283,  26, 333, 101],\n",
       "        [  0, 340,  26, 390, 101],\n",
       "        [  1, 397,  26, 447, 101],\n",
       "        [  9, 474,  42, 519, 107],\n",
       "        [  9, 531,  42, 576, 107],\n",
       "        [ 36,   0,   0, 600, 130]]], dtype=int64)"
      ]
     },
     "execution_count": 333,
     "metadata": {},
     "output_type": "execute_result"
    }
   ],
   "source": [
    "summary (plateGenerator(1))"
   ]
  },
  {
   "cell_type": "raw",
   "metadata": {},
   "source": [
    "image = np.array(Image.open('Plate Pieces/37G28644.png'), dtype = np.uint8)\n",
    "fig, ax = plt.subplots(1)\n",
    "ax.imshow(image)\n",
    "rectangle1 = patches.Rectangle((85, 25), 50, 75, linewidth = 1, edgecolor = 'r', facecolor = 'none')\n",
    "rectangle2 = patches.Rectangle((5, 5), 590, 120, linewidth = 2, edgecolor = 'b', facecolor = 'none')\n",
    "ax.add_patch(rectangle1)\n",
    "ax.add_patch(rectangle2)\n",
    "plt.show()"
   ]
  },
  {
   "cell_type": "code",
   "execution_count": 321,
   "metadata": {},
   "outputs": [],
   "source": [
    "# This function draw rectangles on current axis and image\n",
    "def drawRectangle(coordinates, axis, width = 50, height = 75, linewidth = 1):\n",
    "    colors = plt.cm.hsv(np.linspace(0, 1, 9)).tolist()\n",
    "    rectangle = patches.Rectangle(coordinates, width, height, linewidth = linewidth, edgecolor = colors[np.random.choice(9)], facecolor = 'none')\n",
    "    axis.add_patch(rectangle)"
   ]
  },
  {
   "cell_type": "code",
   "execution_count": 327,
   "metadata": {},
   "outputs": [],
   "source": [
    "# This function show images and frames\n",
    "def showImages (plates):\n",
    "    # make the images and get summary of image\n",
    "    createNumberPlates(plates)\n",
    "    summaryOfPlates = summary(plates)\n",
    "    for plate in plates:\n",
    "    # first get array of image\n",
    "        image = np.array(Image.open('Plate Pieces/{}.png'.format(joiningPartsOfPlate([plate])[0])), dtype = np.uint8)\n",
    "        figure, axis = plt.subplots(1)\n",
    "        axis.imshow(image)\n",
    "#       second make rectangles\n",
    "        iterator = 57\n",
    "        xmin = 73\n",
    "        for number in range(6):\n",
    "            if number < 2:\n",
    "                drawRectangle((xmin, 25), axis, 50, 75)\n",
    "                xmin += iterator\n",
    "            elif number == 2:\n",
    "                drawRectangle((185, 25), axis, 93, 75)\n",
    "                xmin += 95\n",
    "            else:\n",
    "                drawRectangle((xmin, 25), axis, 50, 75)\n",
    "                xmin += iterator\n",
    "        xmin = 474\n",
    "        for character in range(2):\n",
    "            drawRectangle((xmin, 41), axis, 48, 73)\n",
    "            xmin += 56\n",
    "        drawRectangle((5, 5), axis, 590, 120, 3)\n",
    "        plt.show()"
   ]
  },
  {
   "cell_type": "code",
   "execution_count": 329,
   "metadata": {},
   "outputs": [
    {
     "data": {
      "image/png": "[encoded data removed]",
      "text/plain": [
       "<matplotlib.figure.Figure at 0x1e29a548160>"
      ]
     },
     "metadata": {},
     "output_type": "display_data"
    }
   ],
   "source": [
    "showImages (plateGenerator(1))"
   ]
  }
 ],
 "metadata": {
  "kernelspec": {
   "display_name": "Python 3",
   "language": "python",
   "name": "python3"
  },
  "language_info": {
   "codemirror_mode": {
    "name": "ipython",
    "version": 3
   },
   "file_extension": ".py",
   "mimetype": "text/x-python",
   "name": "python",
   "nbconvert_exporter": "python",
   "pygments_lexer": "ipython3",
   "version": "3.6.3"
  }
 },
 "nbformat": 4,
 "nbformat_minor": 2
}
