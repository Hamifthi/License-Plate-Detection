{
 "cells": [
  {
   "cell_type": "code",
   "execution_count": 200,
   "metadata": {},
   "outputs": [],
   "source": [
    "import os\n",
    "import pandas as pd\n",
    "import numpy as np\n",
    "import scipy as sc\n",
    "import scipy.misc\n",
    "import matplotlib.pyplot as plt\n",
    "from PIL import Image, ImageDraw, ImageFont"
   ]
  },
  {
   "cell_type": "code",
   "execution_count": 62,
   "metadata": {},
   "outputs": [],
   "source": [
    "# List of characters and a function for selecting random character\n",
    "characterList = np.array('A B C D E F G H I J K L M N O P Q R S T U V W X Y Z'.split(' '))\n",
    "numbersList = np.array([0, 1, 2, 3, 4, 5, 6, 7, 8, 9], dtype = int)\n",
    "def selectorOFCharacters (listOfCharactor):\n",
    "    character = np.random.choice(listOfCharactor)\n",
    "    if type(character) == np.str_:\n",
    "        return str(character)\n",
    "    else:\n",
    "        return int(character)"
   ]
  },
  {
   "cell_type": "code",
   "execution_count": 63,
   "metadata": {},
   "outputs": [],
   "source": [
    "# Generating fake number Plates characters for images\n",
    "def plateGenerator (numberOfPlates):\n",
    "    platesList = []\n",
    "    for i in range(numberOfPlates):\n",
    "        plateList = []\n",
    "        for j in range(8):\n",
    "            if j == 2:\n",
    "                plateList.append(selectorOFCharacters(characterList))\n",
    "            else:\n",
    "                plateList.append(selectorOFCharacters(numbersList))\n",
    "        platesList.append(plateList)\n",
    "    platesList = np.array(platesList)\n",
    "    return platesList"
   ]
  },
  {
   "cell_type": "code",
   "execution_count": 64,
   "metadata": {},
   "outputs": [],
   "source": [
    "# Create PNG files of characters\n",
    "def createPNGFiles (charactersList):\n",
    "    font = ImageFont.truetype(\"arial.ttf\", 95)\n",
    "    if isinstance(charactersList[0], str):\n",
    "        for character in charactersList:\n",
    "            if character == 'W':\n",
    "                img = Image.new('RGB', (90, 75), color = (255, 255, 255))\n",
    "                draw = ImageDraw.Draw(img)\n",
    "                draw = draw.text((0, -16), character, fill = (0, 0, 0), font = font)\n",
    "                img.save('E:/Hamed/Projects/Python/License Plate Detection/License-Plate-Detection/Characterslist/{}.png'.format(character))\n",
    "            elif character == 'M':\n",
    "                img = Image.new('RGB', (90, 75), color = (255, 255, 255))\n",
    "                draw = ImageDraw.Draw(img)\n",
    "                draw = draw.text((6, -15), character, fill = (0, 0, 0), font = font)\n",
    "                img.save('E:/Hamed/Projects/Python/License Plate Detection/License-Plate-Detection/Characterslist/{}.png'.format(character))\n",
    "            elif character == 'G':\n",
    "                img = Image.new('RGB', (90, 75), color = (255, 255, 255))\n",
    "                draw = ImageDraw.Draw(img)\n",
    "                draw = draw.text((8, -15), character, fill = (0, 0, 0), font = font)\n",
    "                img.save('E:/Hamed/Projects/Python/License Plate Detection/License-Plate-Detection/Characterslist/{}.png'.format(character))\n",
    "            elif character == 'O':\n",
    "                img = Image.new('RGB', (90, 75), color = (255, 255, 255))\n",
    "                draw = ImageDraw.Draw(img)\n",
    "                draw = draw.text((8, -15), character, fill = (0, 0, 0), font = font)\n",
    "                img.save('E:/Hamed/Projects/Python/License Plate Detection/License-Plate-Detection/Characterslist/{}.png'.format(character))\n",
    "            elif character == 'Q':\n",
    "                img = Image.new('RGB', (90, 78), color = (255, 255, 255))\n",
    "                draw = ImageDraw.Draw(img)\n",
    "                draw = draw.text((7, -15), character, fill = (0, 0, 0), font = font)\n",
    "                img.save('E:/Hamed/Projects/Python/License Plate Detection/License-Plate-Detection/Characterslist/{}.png'.format(character))\n",
    "            elif character == 'I':\n",
    "                img = Image.new('RGB', (90, 75), color = (255, 255, 255))\n",
    "                draw = ImageDraw.Draw(img)\n",
    "                draw = draw.text((32, -15), character, fill = (0, 0, 0), font = font)\n",
    "                img.save('E:/Hamed/Projects/Python/License Plate Detection/License-Plate-Detection/Characterslist/{}.png'.format(character))\n",
    "            elif character == 'J':\n",
    "                img = Image.new('RGB', (90, 75), color = (255, 255, 255))\n",
    "                draw = ImageDraw.Draw(img)\n",
    "                draw = draw.text((23, -15), character, fill = (0, 0, 0), font = font)\n",
    "                img.save('E:/Hamed/Projects/Python/License Plate Detection/License-Plate-Detection/Characterslist/{}.png'.format(character))\n",
    "            elif character == 'L':\n",
    "                img = Image.new('RGB', (90, 75), color = (255, 255, 255))\n",
    "                draw = ImageDraw.Draw(img)\n",
    "                draw = draw.text((18, -15), character, fill = (0, 0, 0), font = font)\n",
    "                img.save('E:/Hamed/Projects/Python/License Plate Detection/License-Plate-Detection/Characterslist/{}.png'.format(character))\n",
    "            else:\n",
    "                img = Image.new('RGB', (90, 75), color = (255, 255, 255))\n",
    "                draw = ImageDraw.Draw(img)\n",
    "                draw = draw.text((14, -14), character, fill = (0, 0, 0), font = font)\n",
    "                img.save('E:/Hamed/Projects/Python/License Plate Detection/License-Plate-Detection/Characterslist/{}.png'.format(character))\n",
    "    else:\n",
    "        for character in charactersList:\n",
    "            character = str(character)\n",
    "            img = Image.new('RGB', (50, 75), color = (255, 255, 255))\n",
    "            draw = ImageDraw.Draw(img)\n",
    "            draw = draw.text((-1, -15), character, fill = (0, 0, 0), font = font)\n",
    "            img.save('E:/Hamed/Projects/Python/License Plate Detection/License-Plate-Detection/Characterslist/{}.png'.format(character))\n",
    "            img = Image.new('RGB', (45, 65), color = (255, 255, 255))\n",
    "            draw = ImageDraw.Draw(img)\n",
    "            draw = draw.text((-1, -15), character, fill = (0, 0, 0), font = ImageFont.truetype(\"arial.ttf\", 85))\n",
    "            img.save('E:/Hamed/Projects/Python/License Plate Detection/License-Plate-Detection/Characterslist/smaller{}.png'.format(character))"
   ]
  },
  {
   "cell_type": "code",
   "execution_count": 70,
   "metadata": {},
   "outputs": [],
   "source": [
    "createPNGFiles(characterList)\n",
    "createPNGFiles(numbersList)"
   ]
  },
  {
   "cell_type": "code",
   "execution_count": 133,
   "metadata": {},
   "outputs": [],
   "source": [
    "# Preparing characters of number Plates for png files\n",
    "def joiningPartsOfPlate (plate):\n",
    "    return list(map(lambda number:''.join(number), plate))"
   ]
  },
  {
   "cell_type": "code",
   "execution_count": 201,
   "metadata": {},
   "outputs": [],
   "source": [
    "# plate = plateGenerator(1)\n",
    "# print(plate)\n",
    "# print(joiningPartsOfPlate(plate))\n",
    "# joiningPartsOfPlate(['a', 'b'])"
   ]
  },
  {
   "cell_type": "code",
   "execution_count": 82,
   "metadata": {},
   "outputs": [],
   "source": [
    "# def createBackgrounds (numberOfPlates):\n",
    "#     plates = joinigPartsOfPlates(numberOfPlates)\n",
    "#     for number in range(len(plates)):\n",
    "#         background = Image.open('background.png')\n",
    "#         background.save('Backgrounds/{}{}.png'.format(plates[number, 0], plates[number, 1]))"
   ]
  },
  {
   "cell_type": "code",
   "execution_count": 83,
   "metadata": {},
   "outputs": [],
   "source": [
    "# Create PNG files\n",
    "# def createPNGFiles(platesList):\n",
    "#     for character in platesList[:, 0]:\n",
    "#         img = Image.new('RGB', (370, 100), color = (255, 255, 255))\n",
    "#         draw = ImageDraw.Draw(img)\n",
    "#         font = ImageFont.truetype(\"arial.ttf\", 100)\n",
    "#         draw = draw.text((0, -6), character, fill = (0, 0, 0), font = font)\n",
    "#         img.save('Plate Pieces/{}.png'.format(character))\n",
    "#     for character in platesList[:, 1]:\n",
    "#         img = Image.new('RGB', (95, 70), color = (255, 255, 255))\n",
    "#         draw = ImageDraw.Draw(img)\n",
    "#         font = ImageFont.truetype(\"arial.ttf\", 90)\n",
    "#         draw = draw.text((-2, -14), character, fill = (0, 0, 0), font = font)\n",
    "#         img.save('Plate Pieces/{}.png'.format(character))"
   ]
  },
  {
   "cell_type": "code",
   "execution_count": 222,
   "metadata": {},
   "outputs": [],
   "source": [
    "# creating real number Plates\n",
    "def createNumberPlates (numberOfPlates):\n",
    "    plates = plateGenerator(numberOfPlates)\n",
    "    for plateNumber in range(len(plates)):\n",
    "        image = Image.open('Plate Pieces/composite.png')\n",
    "        background = image.copy()\n",
    "        background.save('Plate Pieces/background.png')\n",
    "        width = 85\n",
    "        for i in range(8):\n",
    "            if i < 2:\n",
    "                background = Image.open('Plate Pieces/background.png')\n",
    "                foreground = Image.open('Characterslist/{}.png'.format(plates[plateNumber, i]))\n",
    "                background.paste(foreground, (width, 26))\n",
    "                background.save('Plate Pieces/background.png')\n",
    "                width += 55\n",
    "            elif i == 2:\n",
    "                background = Image.open('Plate Pieces/background.png')\n",
    "                foreground = Image.open('Characterslist/{}.png'.format(plates[plateNumber, i]))\n",
    "                background.paste(foreground, (width, 26))\n",
    "                background.save('Plate Pieces/background.png')\n",
    "                width += 95\n",
    "            elif i > 2 and i < 6:\n",
    "                background = Image.open('Plate Pieces/background.png')\n",
    "                foreground = Image.open('Characterslist/{}.png'.format(plates[plateNumber, i]))\n",
    "                background.paste(foreground, (width, 26))\n",
    "                background.save('Plate Pieces/background.png')\n",
    "                width += 55\n",
    "            elif i == 6:\n",
    "                background = Image.open('Plate Pieces/background.png')\n",
    "                foreground = Image.open('Characterslist/smaller{}.png'.format(plates[plateNumber, i]))\n",
    "                background.paste(foreground, (472, 42))\n",
    "                background.save('Plate Pieces/background.png')\n",
    "            else:\n",
    "                background = Image.open('Plate Pieces/background.png')\n",
    "                foreground = Image.open('Characterslist/smaller{}.png'.format(plates[plateNumber, i]))\n",
    "                background.paste(foreground, (536, 42))\n",
    "                background.save('Plate Pieces/background.png')\n",
    "        background = Image.open('Plate Pieces/background.png')\n",
    "        name = joiningPartsOfPlate([plates[plateNumber]])[0]\n",
    "        background.save('Plate Pieces/{}.png'.format(name))\n",
    "    os.remove(path = 'Plate Pieces/background.png')\n",
    "#         for j in plate[1]:\n",
    "#             background = Image.open('Characterslist/{}.png'.format(plates[number, 0]))\n",
    "#             foreground = Image.open('Characterslist/{}.png'.format(plates[number, 1]))\n",
    "#             background.paste(foreground, (480, 42))\n",
    "#             background.save('Final Plates/{}{}.png'.format(plates[number, 0], plates[number, 1]))"
   ]
  },
  {
   "cell_type": "code",
   "execution_count": 223,
   "metadata": {},
   "outputs": [],
   "source": [
    "createNumberPlates(10)"
   ]
  }
 ],
 "metadata": {
  "kernelspec": {
   "display_name": "Python 3",
   "language": "python",
   "name": "python3"
  },
  "language_info": {
   "codemirror_mode": {
    "name": "ipython",
    "version": 3
   },
   "file_extension": ".py",
   "mimetype": "text/x-python",
   "name": "python",
   "nbconvert_exporter": "python",
   "pygments_lexer": "ipython3",
   "version": "3.6.3"
  }
 },
 "nbformat": 4,
 "nbformat_minor": 2
}
