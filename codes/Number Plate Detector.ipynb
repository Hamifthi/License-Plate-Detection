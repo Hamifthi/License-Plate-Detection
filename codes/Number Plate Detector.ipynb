{
 "cells": [
  {
   "cell_type": "code",
   "execution_count": 1,
   "metadata": {},
   "outputs": [
    {
     "name": "stderr",
     "output_type": "stream",
     "text": [
      "Using TensorFlow backend.\n"
     ]
    }
   ],
   "source": [
    "from keras import backend as K\n",
    "from keras.models import load_model\n",
    "from keras.preprocessing import image\n",
    "from keras.optimizers import Adam\n",
    "from imageio import imread\n",
    "import numpy as np\n",
    "from matplotlib import pyplot as plt\n",
    "\n",
    "from models.keras_ssd300 import ssd_300\n",
    "from keras_loss_function.keras_ssd_loss import SSDLoss\n",
    "from keras_layers.keras_layer_AnchorBoxes import AnchorBoxes\n",
    "from keras_layers.keras_layer_DecodeDetections import DecodeDetections\n",
    "from keras_layers.keras_layer_DecodeDetections2 import DecodeDetections2\n",
    "from keras_layers.keras_layer_L2Normalization import L2Normalization\n",
    "\n",
    "from ssd_encoder_decoder.ssd_output_decoder import decode_detections, decode_detections_fast\n",
    "\n",
    "from data_generator.object_detection_2d_data_generator import DataGenerator\n",
    "from data_generator.object_detection_2d_photometric_ops import ConvertTo3Channels\n",
    "from data_generator.object_detection_2d_geometric_ops import Resize\n",
    "from data_generator.object_detection_2d_misc_utils import apply_inverse_transforms\n",
    "\n",
    "%matplotlib inline\n",
    "import PIL.Image as Image"
   ]
  },
  {
   "cell_type": "code",
   "execution_count": 2,
   "metadata": {},
   "outputs": [],
   "source": [
    "# Set the image size.\n",
    "img_height = 300\n",
    "img_width = 300"
   ]
  },
  {
   "cell_type": "code",
   "execution_count": 3,
   "metadata": {},
   "outputs": [],
   "source": [
    "# TODO: Set the path to the `.h5` file of the model to be loaded.\n",
    "model_path = '../model/model1.h5'\n",
    "\n",
    "# We need to create an SSDLoss object in order to pass that to the model loader.\n",
    "ssd_loss = SSDLoss(neg_pos_ratio=3, n_neg_min=0, alpha=1.0)\n",
    "\n",
    "K.clear_session() # Clear previous models from memory.\n",
    "\n",
    "model = load_model(model_path, custom_objects={'AnchorBoxes': AnchorBoxes,\n",
    "                                               'L2Normalization': L2Normalization,\n",
    "                                               'DecodeDetections': DecodeDetections,\n",
    "                                               'compute_loss': ssd_loss.compute_loss})"
   ]
  },
  {
   "cell_type": "raw",
   "metadata": {},
   "source": [
    "orig_images = [] # Store the images here.\n",
    "input_images = [] # Store resized versions of the images here.\n",
    "\n",
    "# We'll only load one image in this example.\n",
    "img_path = 'testImages/test4.jpg'\n",
    "\n",
    "orig_images.append(imread(img_path))\n",
    "img = image.load_img(img_path, target_size=(img_height, img_width))\n",
    "img = image.img_to_array(img) \n",
    "input_images.append(img)\n",
    "input_images = np.array(input_images)"
   ]
  },
  {
   "cell_type": "code",
   "execution_count": 4,
   "metadata": {},
   "outputs": [
    {
     "name": "stderr",
     "output_type": "stream",
     "text": [
      "WARNING:root:Warning: the frame size for reading (480, 640) is different from the source frame size (640, 480).\n"
     ]
    }
   ],
   "source": [
    "import imageio\n",
    "import pylab\n",
    "orig_images = [] # Store the images here.\n",
    "input_images = [] # Store resized versions of the images here.\n",
    "filename = 'test1.mp4'\n",
    "video = imageio.get_reader(filename)\n",
    "listOfNumbers = [i for i in range(605)]\n",
    "for number in listOfNumbers:\n",
    "    image = video.get_data(number)\n",
    "    image = Image.fromarray(image)\n",
    "    orig_images.append(np.array(image))\n",
    "    image = image.resize((300, 300), Image.ANTIALIAS)\n",
    "# We'll only load one image in this example.\n",
    "    input_images.append(np.array(image))\n",
    "input_images = np.array(input_images)\n",
    "orig_images = np.array(orig_images)"
   ]
  },
  {
   "cell_type": "raw",
   "metadata": {},
   "source": [
    "y_pred = model.predict(input_images)"
   ]
  },
  {
   "cell_type": "raw",
   "metadata": {},
   "source": [
    "y_pred_decoded = decode_detections(y_pred,\n",
    "                                   confidence_thresh=0.5,\n",
    "                                   iou_threshold=0.45,\n",
    "                                   top_k=200,\n",
    "                                   img_height=img_height,\n",
    "                                   img_width=img_width)\n",
    "\n",
    "np.set_printoptions(precision=2, suppress=True, linewidth=90)\n",
    "# print(\"Predicted boxes:\\n\")\n",
    "# print('   class   conf xmin   ymin   xmax   ymax')\n",
    "# print(y_pred_decoded)"
   ]
  },
  {
   "cell_type": "raw",
   "metadata": {},
   "source": [
    "confidence_threshold = 0.5\n",
    "\n",
    "y_pred_thresh = [y_pred_decoded[K][y_pred_decoded[0] > confidence_threshold] for k in range(y_pred_decoded[0].shape[0])]\n",
    "\n",
    "np.set_printoptions(precision=2, suppress=True, linewidth=90)\n",
    "print(\"Predicted boxes:\\n\")\n",
    "print('   class   conf xmin   ymin   xmax   ymax')\n",
    "print(y_pred_thresh[0])"
   ]
  },
  {
   "cell_type": "code",
   "execution_count": 5,
   "metadata": {},
   "outputs": [],
   "source": [
    "y_pred_decoded = np.load('y_pred_decoded.npy')"
   ]
  },
  {
   "cell_type": "code",
   "execution_count": 19,
   "metadata": {},
   "outputs": [],
   "source": [
    "# Display the image and draw the predicted boxes onto it.\n",
    "\n",
    "# Set the colors for the bounding boxes\n",
    "colors = plt.cm.hsv(np.linspace(0, 1, 21)).tolist()\n",
    "classes = ['background', 'plate']\n",
    "\n",
    "fig = plt.figure(figsize = (20,12))\n",
    "plt.imshow()\n",
    "# for number in range(605):\n",
    "#     fig = plt.figure(figsize=(20,12))\n",
    "#     plt.imshow(orig_images[number])\n",
    "#     current_axis = plt.gca()\n",
    "#         # Transform the predicted bounding boxes for the 300x300 image to the original image dimensions.\n",
    "#     if len(y_pred_decoded[number]) == 0:\n",
    "#         image = Image.fromarray(orig_images[number])\n",
    "#         image.save('videoImages/{}.jpg'.format(number))\n",
    "\n",
    "#     for box in y_pred_decoded[number]:\n",
    "#         # Transform the predicted bounding boxes for the 300x300 image to the original image dimensions.\n",
    "#         xmin = box[2] * orig_images[number].shape[1] / img_width\n",
    "#         ymin = box[3] * orig_images[number].shape[0] / img_height\n",
    "#         xmax = box[4] * orig_images[number].shape[1] / img_width\n",
    "#         ymax = box[5] * orig_images[number].shape[0] / img_height\n",
    "#         color = colors[int(box[0])]\n",
    "#         label = '{}: {:.2f}'.format(classes[int(box[0])], box[1])\n",
    "#         current_axis.add_patch(plt.Rectangle((xmin, ymin), xmax-xmin, ymax-ymin, color=color, fill=False, linewidth=2))  \n",
    "#         current_axis.text(xmin, ymin, label, size='x-large', color='white', bbox={'facecolor':color, 'alpha':1.0})\n",
    "#         current_axis.axis('off')\n",
    "#         fig.savefig('videoImages/{}.jpg'.format(number), bbox_inches = 'tight', pad_inches = 0)\n",
    "#     plt.close('all')"
   ]
  },
  {
   "cell_type": "code",
   "execution_count": 24,
   "metadata": {},
   "outputs": [],
   "source": [
    "for number in range(605):\n",
    "    image = Image.open('videoImages/{}.jpg'.format(number))\n",
    "    image = image.crop((26, 3, 480, 655))\n",
    "    image.save('videoImages/{}.jpg'.format(number))"
   ]
  },
  {
   "cell_type": "code",
   "execution_count": 26,
   "metadata": {},
   "outputs": [],
   "source": [
    "import cv2\n",
    "\n",
    "images = []\n",
    "for i in range(605):\n",
    "    images.append(cv2.imread('videoImages/{}.jpg'.format(i)))\n",
    "    \n",
    "height, width, layers = images[1].shape\n",
    "\n",
    "video=cv2.VideoWriter('videoTest.avi', -1, 20, (width, height))\n",
    "\n",
    "for j in range(605):\n",
    "    video.write(images[j])\n",
    "    \n",
    "cv2.destroyAllWindows()\n",
    "video.release()"
   ]
  }
 ],
 "metadata": {
  "kernelspec": {
   "display_name": "Python 3",
   "language": "python",
   "name": "python3"
  },
  "language_info": {
   "codemirror_mode": {
    "name": "ipython",
    "version": 3
   },
   "file_extension": ".py",
   "mimetype": "text/x-python",
   "name": "python",
   "nbconvert_exporter": "python",
   "pygments_lexer": "ipython3",
   "version": "3.7.3"
  }
 },
 "nbformat": 4,
 "nbformat_minor": 2
}
